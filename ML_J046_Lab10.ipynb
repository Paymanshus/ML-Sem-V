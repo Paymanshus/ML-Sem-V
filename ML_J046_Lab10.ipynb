{
  "nbformat": 4,
  "nbformat_minor": 0,
  "metadata": {
    "colab": {
      "name": "ML_Lab10.ipynb",
      "provenance": [],
      "authorship_tag": "ABX9TyPx5OyFzzoeq7Y1yLww7KCe",
      "include_colab_link": true
    },
    "kernelspec": {
      "name": "python3",
      "display_name": "Python 3"
    }
  },
  "cells": [
    {
      "cell_type": "markdown",
      "metadata": {
        "id": "view-in-github",
        "colab_type": "text"
      },
      "source": [
        "<a href=\"https://colab.research.google.com/github/Paymanshus/ML-Sem-V/blob/master/ML_J046_Lab10.ipynb\" target=\"_parent\"><img src=\"https://colab.research.google.com/assets/colab-badge.svg\" alt=\"Open In Colab\"/></a>"
      ]
    },
    {
      "cell_type": "code",
      "metadata": {
        "id": "EcZWT-9Xjqk2"
      },
      "source": [
        "import pandas as pd\n",
        "import numpy as np"
      ],
      "execution_count": 1,
      "outputs": []
    },
    {
      "cell_type": "code",
      "metadata": {
        "id": "PwOruWZjj9kz",
        "outputId": "88be9cd7-2260-4318-b618-182c3dec3412",
        "colab": {
          "base_uri": "https://localhost:8080/"
        }
      },
      "source": [
        "!wget -O train.csv.zip https://github.com/pranavn91/blockchain/blob/master/train.csv.zip?raw=true\n",
        "!wget -O test.csv.zip https://github.com/pranavn91/blockchain/blob/master/test.csv.zip?raw=true\n",
        "!unzip train.csv.zip\n",
        "!unzip test.csv.zip\n",
        "train = pd.read_csv('train.csv')\n",
        "test = pd.read_csv('test.csv')"
      ],
      "execution_count": 2,
      "outputs": [
        {
          "output_type": "stream",
          "text": [
            "--2020-11-03 19:23:01--  https://github.com/pranavn91/blockchain/blob/master/train.csv.zip?raw=true\n",
            "Resolving github.com (github.com)... 140.82.121.4\n",
            "Connecting to github.com (github.com)|140.82.121.4|:443... connected.\n",
            "HTTP request sent, awaiting response... 302 Found\n",
            "Location: https://github.com/pranavn91/blockchain/raw/master/train.csv.zip [following]\n",
            "--2020-11-03 19:23:01--  https://github.com/pranavn91/blockchain/raw/master/train.csv.zip\n",
            "Reusing existing connection to github.com:443.\n",
            "HTTP request sent, awaiting response... 302 Found\n",
            "Location: https://raw.githubusercontent.com/pranavn91/blockchain/master/train.csv.zip [following]\n",
            "--2020-11-03 19:23:02--  https://raw.githubusercontent.com/pranavn91/blockchain/master/train.csv.zip\n",
            "Resolving raw.githubusercontent.com (raw.githubusercontent.com)... 151.101.0.133, 151.101.64.133, 151.101.128.133, ...\n",
            "Connecting to raw.githubusercontent.com (raw.githubusercontent.com)|151.101.0.133|:443... connected.\n",
            "HTTP request sent, awaiting response... 200 OK\n",
            "Length: 5237160 (5.0M) [application/zip]\n",
            "Saving to: ‘train.csv.zip’\n",
            "\n",
            "train.csv.zip       100%[===================>]   4.99M  30.6MB/s    in 0.2s    \n",
            "\n",
            "2020-11-03 19:23:02 (30.6 MB/s) - ‘train.csv.zip’ saved [5237160/5237160]\n",
            "\n",
            "--2020-11-03 19:23:03--  https://github.com/pranavn91/blockchain/blob/master/test.csv.zip?raw=true\n",
            "Resolving github.com (github.com)... 140.82.118.4\n",
            "Connecting to github.com (github.com)|140.82.118.4|:443... connected.\n",
            "HTTP request sent, awaiting response... 302 Found\n",
            "Location: https://github.com/pranavn91/blockchain/raw/master/test.csv.zip [following]\n",
            "--2020-11-03 19:23:03--  https://github.com/pranavn91/blockchain/raw/master/test.csv.zip\n",
            "Reusing existing connection to github.com:443.\n",
            "HTTP request sent, awaiting response... 302 Found\n",
            "Location: https://raw.githubusercontent.com/pranavn91/blockchain/master/test.csv.zip [following]\n",
            "--2020-11-03 19:23:03--  https://raw.githubusercontent.com/pranavn91/blockchain/master/test.csv.zip\n",
            "Resolving raw.githubusercontent.com (raw.githubusercontent.com)... 151.101.0.133, 151.101.64.133, 151.101.128.133, ...\n",
            "Connecting to raw.githubusercontent.com (raw.githubusercontent.com)|151.101.0.133|:443... connected.\n",
            "HTTP request sent, awaiting response... 200 OK\n",
            "Length: 2203010 (2.1M) [application/zip]\n",
            "Saving to: ‘test.csv.zip’\n",
            "\n",
            "test.csv.zip        100%[===================>]   2.10M  --.-KB/s    in 0.08s   \n",
            "\n",
            "2020-11-03 19:23:04 (27.4 MB/s) - ‘test.csv.zip’ saved [2203010/2203010]\n",
            "\n",
            "Archive:  train.csv.zip\n",
            "  inflating: train.csv               \n",
            "Archive:  test.csv.zip\n",
            "  inflating: test.csv                \n"
          ],
          "name": "stdout"
        }
      ]
    },
    {
      "cell_type": "code",
      "metadata": {
        "id": "uGjsAFgaj_CK",
        "outputId": "f7f59b50-103e-406e-98a8-bb30e63d6d99",
        "colab": {
          "base_uri": "https://localhost:8080/",
          "height": 262
        }
      },
      "source": [
        "train.head()"
      ],
      "execution_count": 3,
      "outputs": [
        {
          "output_type": "execute_result",
          "data": {
            "text/html": [
              "<div>\n",
              "<style scoped>\n",
              "    .dataframe tbody tr th:only-of-type {\n",
              "        vertical-align: middle;\n",
              "    }\n",
              "\n",
              "    .dataframe tbody tr th {\n",
              "        vertical-align: top;\n",
              "    }\n",
              "\n",
              "    .dataframe thead th {\n",
              "        text-align: right;\n",
              "    }\n",
              "</style>\n",
              "<table border=\"1\" class=\"dataframe\">\n",
              "  <thead>\n",
              "    <tr style=\"text-align: right;\">\n",
              "      <th></th>\n",
              "      <th>id</th>\n",
              "      <th>tweet</th>\n",
              "      <th>state</th>\n",
              "      <th>location</th>\n",
              "      <th>s1</th>\n",
              "      <th>s2</th>\n",
              "      <th>s3</th>\n",
              "      <th>s4</th>\n",
              "      <th>s5</th>\n",
              "      <th>w1</th>\n",
              "      <th>w2</th>\n",
              "      <th>w3</th>\n",
              "      <th>w4</th>\n",
              "      <th>k1</th>\n",
              "      <th>k2</th>\n",
              "      <th>k3</th>\n",
              "      <th>k4</th>\n",
              "      <th>k5</th>\n",
              "      <th>k6</th>\n",
              "      <th>k7</th>\n",
              "      <th>k8</th>\n",
              "      <th>k9</th>\n",
              "      <th>k10</th>\n",
              "      <th>k11</th>\n",
              "      <th>k12</th>\n",
              "      <th>k13</th>\n",
              "      <th>k14</th>\n",
              "      <th>k15</th>\n",
              "    </tr>\n",
              "  </thead>\n",
              "  <tbody>\n",
              "    <tr>\n",
              "      <th>0</th>\n",
              "      <td>1</td>\n",
              "      <td>Jazz for a Rainy Afternoon:  {link}</td>\n",
              "      <td>oklahoma</td>\n",
              "      <td>Oklahoma</td>\n",
              "      <td>0.0</td>\n",
              "      <td>0.0</td>\n",
              "      <td>1.0</td>\n",
              "      <td>0.000</td>\n",
              "      <td>0.000</td>\n",
              "      <td>0.800</td>\n",
              "      <td>0.0</td>\n",
              "      <td>0.200</td>\n",
              "      <td>0.0</td>\n",
              "      <td>0.0</td>\n",
              "      <td>0.0</td>\n",
              "      <td>0.0</td>\n",
              "      <td>0.0</td>\n",
              "      <td>0.0</td>\n",
              "      <td>0.0</td>\n",
              "      <td>0.000</td>\n",
              "      <td>0.0</td>\n",
              "      <td>0.000</td>\n",
              "      <td>1.0</td>\n",
              "      <td>0.0</td>\n",
              "      <td>0.0</td>\n",
              "      <td>0.000</td>\n",
              "      <td>0.0</td>\n",
              "      <td>0.0</td>\n",
              "    </tr>\n",
              "    <tr>\n",
              "      <th>1</th>\n",
              "      <td>2</td>\n",
              "      <td>RT: @mention: I love rainy days.</td>\n",
              "      <td>florida</td>\n",
              "      <td>Miami-Ft. Lauderdale</td>\n",
              "      <td>0.0</td>\n",
              "      <td>0.0</td>\n",
              "      <td>0.0</td>\n",
              "      <td>1.000</td>\n",
              "      <td>0.000</td>\n",
              "      <td>0.196</td>\n",
              "      <td>0.0</td>\n",
              "      <td>0.804</td>\n",
              "      <td>0.0</td>\n",
              "      <td>0.0</td>\n",
              "      <td>0.0</td>\n",
              "      <td>0.0</td>\n",
              "      <td>0.0</td>\n",
              "      <td>0.0</td>\n",
              "      <td>0.0</td>\n",
              "      <td>0.000</td>\n",
              "      <td>0.0</td>\n",
              "      <td>0.000</td>\n",
              "      <td>1.0</td>\n",
              "      <td>0.0</td>\n",
              "      <td>0.0</td>\n",
              "      <td>0.000</td>\n",
              "      <td>0.0</td>\n",
              "      <td>0.0</td>\n",
              "    </tr>\n",
              "    <tr>\n",
              "      <th>2</th>\n",
              "      <td>3</td>\n",
              "      <td>Good Morning Chicago! Time to kick the Windy C...</td>\n",
              "      <td>idaho</td>\n",
              "      <td>NaN</td>\n",
              "      <td>0.0</td>\n",
              "      <td>0.0</td>\n",
              "      <td>0.0</td>\n",
              "      <td>0.000</td>\n",
              "      <td>1.000</td>\n",
              "      <td>0.000</td>\n",
              "      <td>0.0</td>\n",
              "      <td>1.000</td>\n",
              "      <td>0.0</td>\n",
              "      <td>0.0</td>\n",
              "      <td>0.0</td>\n",
              "      <td>0.0</td>\n",
              "      <td>0.0</td>\n",
              "      <td>0.0</td>\n",
              "      <td>0.0</td>\n",
              "      <td>1.000</td>\n",
              "      <td>0.0</td>\n",
              "      <td>0.000</td>\n",
              "      <td>0.0</td>\n",
              "      <td>0.0</td>\n",
              "      <td>0.0</td>\n",
              "      <td>0.000</td>\n",
              "      <td>0.0</td>\n",
              "      <td>0.0</td>\n",
              "    </tr>\n",
              "    <tr>\n",
              "      <th>3</th>\n",
              "      <td>6</td>\n",
              "      <td>Preach lol! :) RT @mention: #alliwantis this t...</td>\n",
              "      <td>minnesota</td>\n",
              "      <td>Minneapolis-St. Paul</td>\n",
              "      <td>0.0</td>\n",
              "      <td>0.0</td>\n",
              "      <td>0.0</td>\n",
              "      <td>1.000</td>\n",
              "      <td>0.000</td>\n",
              "      <td>1.000</td>\n",
              "      <td>0.0</td>\n",
              "      <td>0.000</td>\n",
              "      <td>0.0</td>\n",
              "      <td>0.0</td>\n",
              "      <td>0.0</td>\n",
              "      <td>0.0</td>\n",
              "      <td>0.0</td>\n",
              "      <td>0.0</td>\n",
              "      <td>0.0</td>\n",
              "      <td>0.604</td>\n",
              "      <td>0.0</td>\n",
              "      <td>0.196</td>\n",
              "      <td>0.0</td>\n",
              "      <td>0.0</td>\n",
              "      <td>0.0</td>\n",
              "      <td>0.201</td>\n",
              "      <td>0.0</td>\n",
              "      <td>0.0</td>\n",
              "    </tr>\n",
              "    <tr>\n",
              "      <th>4</th>\n",
              "      <td>9</td>\n",
              "      <td>@mention good morning sunshine</td>\n",
              "      <td>rhode island</td>\n",
              "      <td>Purgatory</td>\n",
              "      <td>0.0</td>\n",
              "      <td>0.0</td>\n",
              "      <td>0.0</td>\n",
              "      <td>0.403</td>\n",
              "      <td>0.597</td>\n",
              "      <td>1.000</td>\n",
              "      <td>0.0</td>\n",
              "      <td>0.000</td>\n",
              "      <td>0.0</td>\n",
              "      <td>0.0</td>\n",
              "      <td>0.0</td>\n",
              "      <td>0.0</td>\n",
              "      <td>0.0</td>\n",
              "      <td>0.0</td>\n",
              "      <td>0.0</td>\n",
              "      <td>0.000</td>\n",
              "      <td>0.0</td>\n",
              "      <td>0.000</td>\n",
              "      <td>0.0</td>\n",
              "      <td>0.0</td>\n",
              "      <td>0.0</td>\n",
              "      <td>1.000</td>\n",
              "      <td>0.0</td>\n",
              "      <td>0.0</td>\n",
              "    </tr>\n",
              "  </tbody>\n",
              "</table>\n",
              "</div>"
            ],
            "text/plain": [
              "   id                                              tweet  ...  k14  k15\n",
              "0   1                Jazz for a Rainy Afternoon:  {link}  ...  0.0  0.0\n",
              "1   2                   RT: @mention: I love rainy days.  ...  0.0  0.0\n",
              "2   3  Good Morning Chicago! Time to kick the Windy C...  ...  0.0  0.0\n",
              "3   6  Preach lol! :) RT @mention: #alliwantis this t...  ...  0.0  0.0\n",
              "4   9                     @mention good morning sunshine  ...  0.0  0.0\n",
              "\n",
              "[5 rows x 28 columns]"
            ]
          },
          "metadata": {
            "tags": []
          },
          "execution_count": 3
        }
      ]
    },
    {
      "cell_type": "code",
      "metadata": {
        "id": "fgkafzZhkAVl",
        "outputId": "e60d4665-654c-4970-8b0c-b1588ee27bf2",
        "colab": {
          "base_uri": "https://localhost:8080/",
          "height": 195
        }
      },
      "source": [
        "test.head()"
      ],
      "execution_count": 4,
      "outputs": [
        {
          "output_type": "execute_result",
          "data": {
            "text/html": [
              "<div>\n",
              "<style scoped>\n",
              "    .dataframe tbody tr th:only-of-type {\n",
              "        vertical-align: middle;\n",
              "    }\n",
              "\n",
              "    .dataframe tbody tr th {\n",
              "        vertical-align: top;\n",
              "    }\n",
              "\n",
              "    .dataframe thead th {\n",
              "        text-align: right;\n",
              "    }\n",
              "</style>\n",
              "<table border=\"1\" class=\"dataframe\">\n",
              "  <thead>\n",
              "    <tr style=\"text-align: right;\">\n",
              "      <th></th>\n",
              "      <th>id</th>\n",
              "      <th>tweet</th>\n",
              "      <th>state</th>\n",
              "      <th>location</th>\n",
              "    </tr>\n",
              "  </thead>\n",
              "  <tbody>\n",
              "    <tr>\n",
              "      <th>0</th>\n",
              "      <td>4</td>\n",
              "      <td>Edinburgh peeps is it sunny?? #weather</td>\n",
              "      <td>NaN</td>\n",
              "      <td>birmingham</td>\n",
              "    </tr>\n",
              "    <tr>\n",
              "      <th>1</th>\n",
              "      <td>5</td>\n",
              "      <td>SEEVERE T’STORM WARNING FOR TROUSDALE,  NORTHW...</td>\n",
              "      <td>NaN</td>\n",
              "      <td>Nashville</td>\n",
              "    </tr>\n",
              "    <tr>\n",
              "      <th>2</th>\n",
              "      <td>7</td>\n",
              "      <td>@Agilis1 sport or traditional climbing? Thats ...</td>\n",
              "      <td>NaN</td>\n",
              "      <td>Midwest</td>\n",
              "    </tr>\n",
              "    <tr>\n",
              "      <th>3</th>\n",
              "      <td>8</td>\n",
              "      <td>#WEATHER: 10:53 am : 63.0F. Feels 61F. 30.07% ...</td>\n",
              "      <td>tennessee</td>\n",
              "      <td>Nashville, TN, USA</td>\n",
              "    </tr>\n",
              "    <tr>\n",
              "      <th>4</th>\n",
              "      <td>12</td>\n",
              "      <td>We used to use umbrellas to face the bad weath...</td>\n",
              "      <td>NaN</td>\n",
              "      <td>Houston</td>\n",
              "    </tr>\n",
              "  </tbody>\n",
              "</table>\n",
              "</div>"
            ],
            "text/plain": [
              "   id  ...            location\n",
              "0   4  ...          birmingham\n",
              "1   5  ...           Nashville\n",
              "2   7  ...             Midwest\n",
              "3   8  ...  Nashville, TN, USA\n",
              "4  12  ...             Houston\n",
              "\n",
              "[5 rows x 4 columns]"
            ]
          },
          "metadata": {
            "tags": []
          },
          "execution_count": 4
        }
      ]
    },
    {
      "cell_type": "code",
      "metadata": {
        "id": "g6adKJe-kDZd",
        "outputId": "abf0df53-4ee0-47f6-ac6a-5fb3fe74b06e",
        "colab": {
          "base_uri": "https://localhost:8080/"
        }
      },
      "source": [
        "print(train.shape)\n",
        "print(test.shape)"
      ],
      "execution_count": 5,
      "outputs": [
        {
          "output_type": "stream",
          "text": [
            "(77946, 28)\n",
            "(42157, 4)\n"
          ],
          "name": "stdout"
        }
      ]
    },
    {
      "cell_type": "code",
      "metadata": {
        "id": "4m9g-nC8kFXA"
      },
      "source": [
        "target_cols = train.columns.difference(test.columns)\n",
        "target = train[target_cols]\n",
        "train.drop(target_cols,axis=1,inplace=True)"
      ],
      "execution_count": 6,
      "outputs": []
    },
    {
      "cell_type": "code",
      "metadata": {
        "id": "7Gbrv3odkHMn"
      },
      "source": [
        "for data in (train,test):\n",
        "    missing_loc_idx = data.index[data.location.isnull()].tolist()\n",
        "    missing_loc_dict = {}\n",
        "    for i in range(len(data)):\n",
        "        if i in missing_loc_idx:\n",
        "            missing_loc_dict[i] = 1\n",
        "        else:\n",
        "            missing_loc_dict[i] = 0\n",
        "    data['missing_loc']= data.index.map(missing_loc_dict)"
      ],
      "execution_count": 7,
      "outputs": []
    },
    {
      "cell_type": "code",
      "metadata": {
        "id": "KCOH42FwkJV9"
      },
      "source": [
        "for data in (train,test):\n",
        "    missing_state_idx = data.index[data.state.isnull()].tolist()\n",
        "    missing_state_dict = {}\n",
        "    for i in range(len(data)):\n",
        "        if i in missing_state_idx:\n",
        "            missing_state_dict[i] = 1\n",
        "        else:\n",
        "            missing_state_dict[i] = 0\n",
        "    data['missing_state']= data.index.map(missing_state_dict)\n"
      ],
      "execution_count": 8,
      "outputs": []
    },
    {
      "cell_type": "code",
      "metadata": {
        "id": "xK7y-TbPkLAl"
      },
      "source": [
        "for data in (train,test):\n",
        "    data['location'] = data['location'].replace(np.nan, '', regex=True)\n",
        "    data['state'] = data['state'].replace(np.nan, '', regex=True)\n",
        "    data['full_text'] = data['tweet']+' '+data['state']+' '+data['location']"
      ],
      "execution_count": 9,
      "outputs": []
    },
    {
      "cell_type": "code",
      "metadata": {
        "id": "6l9ogt76kM24"
      },
      "source": [
        "\n",
        "states = {\"AL\":\"Alabama\",\"AK\":\"Alaska\",\"AZ\":\"Arizona\",\"AR\":\"Arkansas\",\"CA\":\"California\",\"CO\":\"Colorado\",\"CT\":\"Connecticut\",\"DE\":\"Delaware\",\"FL\":\"Florida\",\"GA\":\"Georgia\",\"HI\":\"Hawaii\",\"ID\":\"Idaho\",\"IL\":\"Illinois\",\"IN\":\"Indiana\",\"IA\":\"Iowa\",\"KS\":\"Kansas\",\"KY\":\"Kentucky\",\"LA\":\"Louisiana\",\"ME\":\"Maine\",\"MD\":\"Maryland\",\"MA\":\"Massachusetts\",\"MI\":\"Michigan\",\"MN\":\"Minnesota\",\"MS\":\"Mississippi\",\"MO\":\"Missouri\",\"MT\":\"Montana\",\"NE\":\"Nebraska\",\"NV\":\"Nevada\",\"NH\":\"New Hampshire\",\"NJ\":\"New Jersey\",\"NM\":\"New Mexico\",\"NY\":\"New York\",\"NC\":\"North Carolina\",\"ND\":\"North Dakota\",\"OH\":\"Ohio\",\"OK\":\"Oklahoma\",\"OR\":\"Oregon\",\"PA\":\"Pennsylvania\",\"RI\":\"Rhode Island\",\"SC\":\"South Carolina\",\"SD\":\"South Dakota\",\"TN\":\"Tennessee\",\"TX\":\"Texas\",\"UT\":\"Utah\",\"VT\":\"Vermont\",\"VA\":\"Virginia\",\"WA\":\"Washington\",\"WV\":\"West Virginia\",\"WI\":\"Wisconsin\",\"WY\":\"Wyoming\",\"NYC\":\"New York\"}"
      ],
      "execution_count": 10,
      "outputs": []
    },
    {
      "cell_type": "code",
      "metadata": {
        "id": "yFJnhzFAkORu"
      },
      "source": [
        "\n",
        "import re\n",
        "def cleanpunc(sentence):\n",
        "    cleaned = re.sub(r'[?|!|\\'|\"|#]',r'',sentence)\n",
        "    cleaned = re.sub(r'[.|,|)|(|)|\\|/||:]',r' ',cleaned)      \n",
        "    return cleaned\n",
        "\n",
        "def acronym(s, dct):\n",
        "  return ' '.join([dct.get(i, i) for i in s.split()])\n",
        "\n",
        "for data in (train,test):\n",
        "    full_text_dict = {}\n",
        "    for i,row in data.iterrows():\n",
        "            full_text_dict[i] = acronym(cleanpunc(row['full_text']),states)\n",
        "            #print(i)       \n",
        "    data['full_txt2'] = data.index.map(full_text_dict)"
      ],
      "execution_count": 11,
      "outputs": []
    },
    {
      "cell_type": "code",
      "metadata": {
        "id": "3-rRQrJ0kPsS"
      },
      "source": [
        "for data in (train,test):\n",
        "    data['num_word'] = data['tweet'].apply(lambda x : len(x.split()))\n",
        "    data['num_char'] = data['tweet'].apply(lambda x : len(x))\n",
        "    data['avg_word_length']= data['num_char']+1/data['num_word']"
      ],
      "execution_count": 12,
      "outputs": []
    },
    {
      "cell_type": "code",
      "metadata": {
        "id": "LseVt1A2kSV6"
      },
      "source": [
        "for data in (train,test):\n",
        "    linkword = \"{link}\"\n",
        "    link_dict = {}\n",
        "    for idx in range(len(data)):\n",
        "        text = data.loc[idx,'full_text']\n",
        "        if linkword in text.split():\n",
        "            link_dict[idx]=1\n",
        "        else:\n",
        "            link_dict[idx]=0\n",
        "    data['link_word'] = data.index.map(link_dict)"
      ],
      "execution_count": 13,
      "outputs": []
    },
    {
      "cell_type": "code",
      "metadata": {
        "id": "SmfLTJJxkTnC"
      },
      "source": [
        "for data in (train,test):\n",
        "    mention= \"@mention\"\n",
        "    mention_dict = {}\n",
        "    for idx in range(len(data)):\n",
        "        text = data.loc[idx,'full_text']\n",
        "        if mention in cleanpunc(text).split():\n",
        "            mention_dict[idx]=1\n",
        "        else:\n",
        "            mention_dict[idx]=0\n",
        "    data['mention_word'] = data.index.map(mention_dict)"
      ],
      "execution_count": 14,
      "outputs": []
    },
    {
      "cell_type": "code",
      "metadata": {
        "id": "JnlBVegxkVF1",
        "outputId": "97939346-0230-4f0a-8f48-88825908f7c6",
        "colab": {
          "base_uri": "https://localhost:8080/"
        }
      },
      "source": [
        "import re\n",
        "!pip install nltk\n",
        "import nltk\n",
        "nltk.download('stopwords')\n",
        "from nltk.stem import PorterStemmer\n",
        "ps = PorterStemmer()\n",
        "from nltk.corpus import stopwords\n",
        "stopwords = set(stopwords.words('english'))\n",
        "from wordcloud import WordCloud, STOPWORDS, ImageColorGenerator\n",
        "\n",
        "def cleanhtml (sentence):\n",
        "    cleantext = re.sub(r'http\\S+',r'',sentence)\n",
        "    return cleantext\n",
        "\n",
        "def cleanpunc(sentence):\n",
        "    cleaned = re.sub(r'[?|!|\\'|\"|#]',r'',sentence)\n",
        "    cleaned = re.sub(r'[.|,|)|(|)|\\|/|:]',r' ',cleaned)      \n",
        "    return cleaned"
      ],
      "execution_count": 15,
      "outputs": [
        {
          "output_type": "stream",
          "text": [
            "Requirement already satisfied: nltk in /usr/local/lib/python3.6/dist-packages (3.2.5)\n",
            "Requirement already satisfied: six in /usr/local/lib/python3.6/dist-packages (from nltk) (1.15.0)\n",
            "[nltk_data] Downloading package stopwords to /root/nltk_data...\n",
            "[nltk_data]   Unzipping corpora/stopwords.zip.\n"
          ],
          "name": "stdout"
        }
      ]
    },
    {
      "cell_type": "code",
      "metadata": {
        "id": "mIBeZO5pkWhI"
      },
      "source": [
        "for data in (train,test):\n",
        "    str1=' '\n",
        "    final_string=[]\n",
        "    s=''\n",
        "    for sent in data['full_text']:\n",
        "        filter_sent = []\n",
        "        rem_html = cleanhtml(sent)\n",
        "        rem_punc = cleanpunc (rem_html)\n",
        "        for w in rem_punc.split():\n",
        "            if ((w.isalpha())):\n",
        "                if (w.lower() not in stopwords):\n",
        "                    s=(ps.stem(w.lower())).encode('utf8')\n",
        "                    s=(w.lower()).encode('utf8')\n",
        "                    filter_sent.append(s)\n",
        "                else:\n",
        "                    continue\n",
        "            else:\n",
        "                continue\n",
        "        str1 = b\" \".join(filter_sent)\n",
        "        final_string.append(str1)\n",
        "    data['clean_text'] = np.array(final_string)"
      ],
      "execution_count": 16,
      "outputs": []
    },
    {
      "cell_type": "code",
      "metadata": {
        "id": "PqTXCtYlkYFE"
      },
      "source": [
        "import scipy as sp\n",
        "from sklearn.feature_extraction.text import TfidfVectorizer\n",
        "from sklearn.preprocessing import normalize\n",
        "from sklearn.preprocessing import OneHotEncoder\n",
        "\n",
        "vectorizer = TfidfVectorizer(encoding='utf-8', ngram_range=(1, 3), max_df=0.75, min_df=5) #max_features=12500\n",
        "\n",
        "train_vec = vectorizer.fit_transform(train.clean_text)\n",
        "test_vec = vectorizer.transform(test.clean_text)"
      ],
      "execution_count": 17,
      "outputs": []
    },
    {
      "cell_type": "code",
      "metadata": {
        "id": "7gs7dVaQkZ6P"
      },
      "source": [
        "from sklearn.decomposition import TruncatedSVD\n",
        "svd = TruncatedSVD(n_components=2, algorithm='randomized', n_iter=5, random_state=None, tol=0.0)\n",
        "train_svd = svd.fit_transform(train_vec)\n",
        "test_svd = svd.transform(test_vec)"
      ],
      "execution_count": 18,
      "outputs": []
    },
    {
      "cell_type": "code",
      "metadata": {
        "id": "Q8InPgomkcY0"
      },
      "source": [
        "col = ['svd1','svd2']\n",
        "svd_train =  pd.DataFrame(train_svd, columns=col)\n",
        "svd_test = pd.DataFrame(test_svd, columns=col)"
      ],
      "execution_count": 19,
      "outputs": []
    },
    {
      "cell_type": "code",
      "metadata": {
        "id": "3c1-9L8Dkdip",
        "outputId": "65815105-6669-4440-dde5-2d0c18a6d666",
        "colab": {
          "base_uri": "https://localhost:8080/"
        }
      },
      "source": [
        "from sklearn.feature_extraction.text import TfidfVectorizer\n",
        "from sklearn.preprocessing import normalize\n",
        "from sklearn.preprocessing import OneHotEncoder\n",
        "ohe = OneHotEncoder()\n",
        "vectorizer2 = TfidfVectorizer(encoding='utf-8', ngram_range=(1, 3), max_df=0.75, min_df=5,max_features=50000)\n",
        "\n",
        "X = sp.sparse.hstack((vectorizer2.fit_transform(train.clean_text),normalize(train[['num_word', 'num_char', 'avg_word_length']].values),train[['missing_loc', 'missing_state','link_word', 'mention_word']],svd_train [['svd1','svd2']]),format='csr')\n",
        "\n",
        "X_columns=vectorizer.get_feature_names()+train[['num_word', 'num_char', 'avg_word_length','missing_loc', 'missing_state','link_word', 'mention_word']].columns.tolist() + svd_train [['svd1','svd2']].columns.tolist()\n",
        "print(X.shape)\n",
        "test_sp = sp.sparse.hstack((vectorizer2.transform(test.clean_text),normalize(test[['num_word', 'num_char', 'avg_word_length']].values),test[['missing_loc', 'missing_state','link_word', 'mention_word']],svd_test [['svd1','svd2']]),format='csr')"
      ],
      "execution_count": 20,
      "outputs": [
        {
          "output_type": "stream",
          "text": [
            "(77946, 32439)\n"
          ],
          "name": "stdout"
        }
      ]
    },
    {
      "cell_type": "code",
      "metadata": {
        "id": "4pWaV0-1kezt",
        "outputId": "b1e30d70-db68-4e6b-c200-9b0145f338c3",
        "colab": {
          "base_uri": "https://localhost:8080/"
        }
      },
      "source": [
        "test_columns=vectorizer.get_feature_names()+test[['num_word', 'num_char', 'avg_word_length','missing_loc', 'missing_state','link_word', 'mention_word']].columns.tolist() + svd_test [['svd1','svd2']].columns.tolist()\n",
        "\n",
        "print(test_sp.shape)"
      ],
      "execution_count": 21,
      "outputs": [
        {
          "output_type": "stream",
          "text": [
            "(42157, 32439)\n"
          ],
          "name": "stdout"
        }
      ]
    },
    {
      "cell_type": "code",
      "metadata": {
        "id": "CDW8-P__kgfQ"
      },
      "source": [
        "from sklearn.model_selection import train_test_split\n",
        "x, x_test, y, y_test = train_test_split(X,target,test_size=0.2,train_size=0.8, random_state = 0)"
      ],
      "execution_count": 22,
      "outputs": []
    },
    {
      "cell_type": "code",
      "metadata": {
        "id": "rbX3rTmAkiGr",
        "outputId": "57d997b8-6056-4c8a-c938-2f88dc0de845",
        "colab": {
          "base_uri": "https://localhost:8080/"
        }
      },
      "source": [
        "from sklearn.ensemble import GradientBoostingRegressor\n",
        "from sklearn.metrics import accuracy_score\n",
        "from sklearn.multiclass import OneVsRestClassifier\n",
        "from sklearn.metrics import mean_squared_error\n",
        "from sklearn.naive_bayes import MultinomialNB\n",
        "from sklearn.metrics import mean_squared_error\n",
        "from math import sqrt\n",
        "from sklearn.linear_model import SGDRegressor\n",
        "from sklearn.linear_model import LinearRegression\n",
        "from sklearn.linear_model import Ridge\n",
        "from sklearn import linear_model\n",
        "from sklearn.svm import LinearSVR\n",
        "# Fit regression model\n",
        "cols = target.columns\n",
        "params = {'n_estimators': 500, 'max_depth': 3, 'min_samples_split': 2,\n",
        "          'learning_rate': 0.01, 'loss': 'ls'}\n",
        "dict_preds = {}\n",
        "clf = Ridge(random_state=25)\n",
        "for col in cols:\n",
        "    print('start',col)\n",
        "    clf.fit(x,y[col])\n",
        "    rmse = sqrt(mean_squared_error(y_test[col], clf.predict(x_test)))\n",
        "    print(\"RMSE: %.4f\" % rmse)\n",
        "    dict_preds[col]=clf.predict(test_sp)"
      ],
      "execution_count": 23,
      "outputs": [
        {
          "output_type": "stream",
          "text": [
            "start k1\n",
            "RMSE: 0.0691\n",
            "start k10\n",
            "RMSE: 0.1242\n",
            "start k11\n",
            "RMSE: 0.0856\n",
            "start k12\n",
            "RMSE: 0.1363\n",
            "start k13\n",
            "RMSE: 0.1511\n",
            "start k14\n",
            "RMSE: 0.0504\n",
            "start k15\n",
            "RMSE: 0.0842\n",
            "start k2\n",
            "RMSE: 0.1420\n",
            "start k3\n",
            "RMSE: 0.0471\n",
            "start k4\n",
            "RMSE: 0.1569\n",
            "start k5\n",
            "RMSE: 0.0697\n",
            "start k6\n",
            "RMSE: 0.0216\n",
            "start k7\n",
            "RMSE: 0.2419\n",
            "start k8\n",
            "RMSE: 0.0324\n",
            "start k9\n",
            "RMSE: 0.1461\n",
            "start s1\n",
            "RMSE: 0.1145\n",
            "start s2\n",
            "RMSE: 0.2436\n",
            "start s3\n",
            "RMSE: 0.2168\n",
            "start s4\n",
            "RMSE: 0.2297\n",
            "start s5\n",
            "RMSE: 0.2079\n",
            "start w1\n",
            "RMSE: 0.2833\n",
            "start w2\n",
            "RMSE: 0.1760\n",
            "start w3\n",
            "RMSE: 0.2315\n",
            "start w4\n",
            "RMSE: 0.1546\n"
          ],
          "name": "stdout"
        }
      ]
    },
    {
      "cell_type": "code",
      "metadata": {
        "id": "TB2DDQ4AkkJ4",
        "outputId": "0e096884-23d8-4807-846c-59b8d97370e7",
        "colab": {
          "base_uri": "https://localhost:8080/"
        }
      },
      "source": [
        "from sklearn.multioutput import RegressorChain\n",
        "regressor = RegressorChain(Ridge(random_state=25))\n",
        "regressor.fit(x,y)\n",
        "predictions = regressor.predict(x_test)\n",
        "sqrt(mean_squared_error(y_test,predictions))"
      ],
      "execution_count": 24,
      "outputs": [
        {
          "output_type": "execute_result",
          "data": {
            "text/plain": [
              "0.16019567333162268"
            ]
          },
          "metadata": {
            "tags": []
          },
          "execution_count": 24
        }
      ]
    }
  ]
}