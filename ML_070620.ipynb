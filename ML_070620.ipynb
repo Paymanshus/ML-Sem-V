{
  "nbformat": 4,
  "nbformat_minor": 0,
  "metadata": {
    "colab": {
      "name": "ML_070620.ipynb",
      "provenance": [],
      "authorship_tag": "ABX9TyNgliTdsW1oYXaSDkEKMEcA",
      "include_colab_link": true
    },
    "kernelspec": {
      "name": "python3",
      "display_name": "Python 3"
    }
  },
  "cells": [
    {
      "cell_type": "markdown",
      "metadata": {
        "id": "view-in-github",
        "colab_type": "text"
      },
      "source": [
        "<a href=\"https://colab.research.google.com/github/Paymanshus/ML-Sem-V/blob/master/ML_070620.ipynb\" target=\"_parent\"><img src=\"https://colab.research.google.com/assets/colab-badge.svg\" alt=\"Open In Colab\"/></a>"
      ]
    },
    {
      "cell_type": "code",
      "metadata": {
        "id": "_HmvyW-sUEwu",
        "colab_type": "code",
        "colab": {}
      },
      "source": [
        "import pandas as pd\n",
        "import numpy as np\n",
        "import matplotlib.pyplot as plt"
      ],
      "execution_count": 2,
      "outputs": []
    },
    {
      "cell_type": "markdown",
      "metadata": {
        "id": "M-Giqt1gYAVJ",
        "colab_type": "text"
      },
      "source": [
        "#Question 1\n",
        "### What are the categorical variables in this dataset?\n"
      ]
    },
    {
      "cell_type": "code",
      "metadata": {
        "id": "dltesNqqXCqf",
        "colab_type": "code",
        "colab": {}
      },
      "source": [
        "df = pd.read_csv('depression.csv')"
      ],
      "execution_count": 3,
      "outputs": []
    },
    {
      "cell_type": "code",
      "metadata": {
        "id": "VcnPAolyXQIJ",
        "colab_type": "code",
        "colab": {
          "base_uri": "https://localhost:8080/",
          "height": 195
        },
        "outputId": "6de4968f-168c-42d7-ad9b-3b53c9f2e0e3"
      },
      "source": [
        "df.head()"
      ],
      "execution_count": 4,
      "outputs": [
        {
          "output_type": "execute_result",
          "data": {
            "text/html": [
              "<div>\n",
              "<style scoped>\n",
              "    .dataframe tbody tr th:only-of-type {\n",
              "        vertical-align: middle;\n",
              "    }\n",
              "\n",
              "    .dataframe tbody tr th {\n",
              "        vertical-align: top;\n",
              "    }\n",
              "\n",
              "    .dataframe thead th {\n",
              "        text-align: right;\n",
              "    }\n",
              "</style>\n",
              "<table border=\"1\" class=\"dataframe\">\n",
              "  <thead>\n",
              "    <tr style=\"text-align: right;\">\n",
              "      <th></th>\n",
              "      <th>Unnamed: 0</th>\n",
              "      <th>Hospt</th>\n",
              "      <th>Treat</th>\n",
              "      <th>Outcome</th>\n",
              "      <th>Time</th>\n",
              "      <th>AcuteT</th>\n",
              "      <th>Age</th>\n",
              "      <th>Gender</th>\n",
              "    </tr>\n",
              "  </thead>\n",
              "  <tbody>\n",
              "    <tr>\n",
              "      <th>0</th>\n",
              "      <td>1</td>\n",
              "      <td>1</td>\n",
              "      <td>0</td>\n",
              "      <td>1</td>\n",
              "      <td>36.143002</td>\n",
              "      <td>211</td>\n",
              "      <td>33</td>\n",
              "      <td>1</td>\n",
              "    </tr>\n",
              "    <tr>\n",
              "      <th>1</th>\n",
              "      <td>2</td>\n",
              "      <td>1</td>\n",
              "      <td>1</td>\n",
              "      <td>0</td>\n",
              "      <td>105.142998</td>\n",
              "      <td>176</td>\n",
              "      <td>49</td>\n",
              "      <td>1</td>\n",
              "    </tr>\n",
              "    <tr>\n",
              "      <th>2</th>\n",
              "      <td>3</td>\n",
              "      <td>1</td>\n",
              "      <td>1</td>\n",
              "      <td>0</td>\n",
              "      <td>74.570999</td>\n",
              "      <td>191</td>\n",
              "      <td>50</td>\n",
              "      <td>1</td>\n",
              "    </tr>\n",
              "    <tr>\n",
              "      <th>3</th>\n",
              "      <td>4</td>\n",
              "      <td>1</td>\n",
              "      <td>0</td>\n",
              "      <td>1</td>\n",
              "      <td>49.714001</td>\n",
              "      <td>206</td>\n",
              "      <td>29</td>\n",
              "      <td>2</td>\n",
              "    </tr>\n",
              "    <tr>\n",
              "      <th>4</th>\n",
              "      <td>5</td>\n",
              "      <td>1</td>\n",
              "      <td>0</td>\n",
              "      <td>0</td>\n",
              "      <td>14.429000</td>\n",
              "      <td>63</td>\n",
              "      <td>29</td>\n",
              "      <td>1</td>\n",
              "    </tr>\n",
              "  </tbody>\n",
              "</table>\n",
              "</div>"
            ],
            "text/plain": [
              "   Unnamed: 0  Hospt  Treat  Outcome        Time  AcuteT  Age  Gender\n",
              "0           1      1      0        1   36.143002     211   33       1\n",
              "1           2      1      1        0  105.142998     176   49       1\n",
              "2           3      1      1        0   74.570999     191   50       1\n",
              "3           4      1      0        1   49.714001     206   29       2\n",
              "4           5      1      0        0   14.429000      63   29       1"
            ]
          },
          "metadata": {
            "tags": []
          },
          "execution_count": 4
        }
      ]
    },
    {
      "cell_type": "markdown",
      "metadata": {
        "id": "3iRwBaNxZA2j",
        "colab_type": "text"
      },
      "source": [
        "Categorical variables are found to be: \n",
        "Hospt, Treat, Outcome, Gender"
      ]
    },
    {
      "cell_type": "markdown",
      "metadata": {
        "id": "7At-LcUJYRr8",
        "colab_type": "text"
      },
      "source": [
        "#Question 2\n",
        "### What are the quantitative variables in this dataset?"
      ]
    },
    {
      "cell_type": "markdown",
      "metadata": {
        "id": "PbGGGWixZKq8",
        "colab_type": "text"
      },
      "source": [
        "Quantitative variables are found to be: Time, AcuteT, Age"
      ]
    },
    {
      "cell_type": "markdown",
      "metadata": {
        "id": "47gstXHFYWKV",
        "colab_type": "text"
      },
      "source": [
        "#Question 3\n",
        "###Describe the distribution of the variable \"friends\" in dataset - Survey that asked 1,200 U.S. college students about their body perception"
      ]
    },
    {
      "cell_type": "code",
      "metadata": {
        "id": "C59zEsfwXef7",
        "colab_type": "code",
        "colab": {}
      },
      "source": [
        "df2 = pd.read_csv('friends.csv')"
      ],
      "execution_count": 5,
      "outputs": []
    },
    {
      "cell_type": "code",
      "metadata": {
        "id": "YTLKV9QQaTRZ",
        "colab_type": "code",
        "colab": {}
      },
      "source": [
        "pd.set_option('display.max_rows', 500)"
      ],
      "execution_count": 6,
      "outputs": []
    },
    {
      "cell_type": "code",
      "metadata": {
        "id": "i3Y4qZamaoag",
        "colab_type": "code",
        "colab": {
          "base_uri": "https://localhost:8080/",
          "height": 284
        },
        "outputId": "6d688373-5191-40a1-e5af-3c29c3121b2e"
      },
      "source": [
        "df2.describe()"
      ],
      "execution_count": 7,
      "outputs": [
        {
          "output_type": "execute_result",
          "data": {
            "text/html": [
              "<div>\n",
              "<style scoped>\n",
              "    .dataframe tbody tr th:only-of-type {\n",
              "        vertical-align: middle;\n",
              "    }\n",
              "\n",
              "    .dataframe tbody tr th {\n",
              "        vertical-align: top;\n",
              "    }\n",
              "\n",
              "    .dataframe thead th {\n",
              "        text-align: right;\n",
              "    }\n",
              "</style>\n",
              "<table border=\"1\" class=\"dataframe\">\n",
              "  <thead>\n",
              "    <tr style=\"text-align: right;\">\n",
              "      <th></th>\n",
              "      <th>Unnamed: 0</th>\n",
              "    </tr>\n",
              "  </thead>\n",
              "  <tbody>\n",
              "    <tr>\n",
              "      <th>count</th>\n",
              "      <td>1200.000000</td>\n",
              "    </tr>\n",
              "    <tr>\n",
              "      <th>mean</th>\n",
              "      <td>600.500000</td>\n",
              "    </tr>\n",
              "    <tr>\n",
              "      <th>std</th>\n",
              "      <td>346.554469</td>\n",
              "    </tr>\n",
              "    <tr>\n",
              "      <th>min</th>\n",
              "      <td>1.000000</td>\n",
              "    </tr>\n",
              "    <tr>\n",
              "      <th>25%</th>\n",
              "      <td>300.750000</td>\n",
              "    </tr>\n",
              "    <tr>\n",
              "      <th>50%</th>\n",
              "      <td>600.500000</td>\n",
              "    </tr>\n",
              "    <tr>\n",
              "      <th>75%</th>\n",
              "      <td>900.250000</td>\n",
              "    </tr>\n",
              "    <tr>\n",
              "      <th>max</th>\n",
              "      <td>1200.000000</td>\n",
              "    </tr>\n",
              "  </tbody>\n",
              "</table>\n",
              "</div>"
            ],
            "text/plain": [
              "        Unnamed: 0\n",
              "count  1200.000000\n",
              "mean    600.500000\n",
              "std     346.554469\n",
              "min       1.000000\n",
              "25%     300.750000\n",
              "50%     600.500000\n",
              "75%     900.250000\n",
              "max    1200.000000"
            ]
          },
          "metadata": {
            "tags": []
          },
          "execution_count": 7
        }
      ]
    },
    {
      "cell_type": "code",
      "metadata": {
        "id": "asfxtjmTeaTN",
        "colab_type": "code",
        "colab": {
          "base_uri": "https://localhost:8080/",
          "height": 105
        },
        "outputId": "d06ef0df-683d-4fec-dbc8-35f3b116036e"
      },
      "source": [
        "df2['Friends'].describe()"
      ],
      "execution_count": 8,
      "outputs": [
        {
          "output_type": "execute_result",
          "data": {
            "text/plain": [
              "count              1200\n",
              "unique                3\n",
              "top       No difference\n",
              "freq                602\n",
              "Name: Friends, dtype: object"
            ]
          },
          "metadata": {
            "tags": []
          },
          "execution_count": 8
        }
      ]
    },
    {
      "cell_type": "code",
      "metadata": {
        "id": "EUN41iecgkjf",
        "colab_type": "code",
        "colab": {
          "base_uri": "https://localhost:8080/",
          "height": 87
        },
        "outputId": "1011c7cf-4303-429f-d8bb-f264dd53bfb7"
      },
      "source": [
        "df2['Friends'].value_counts()"
      ],
      "execution_count": 9,
      "outputs": [
        {
          "output_type": "execute_result",
          "data": {
            "text/plain": [
              "No difference    602\n",
              "Opposite sex     434\n",
              "Same sex         164\n",
              "Name: Friends, dtype: int64"
            ]
          },
          "metadata": {
            "tags": []
          },
          "execution_count": 9
        }
      ]
    },
    {
      "cell_type": "code",
      "metadata": {
        "id": "QYhWWcszdoJ2",
        "colab_type": "code",
        "colab": {
          "base_uri": "https://localhost:8080/",
          "height": 282
        },
        "outputId": "d8ff0682-423e-49b7-ee77-b2498a83ef05"
      },
      "source": [
        "df2['Friends'].hist()"
      ],
      "execution_count": 10,
      "outputs": [
        {
          "output_type": "execute_result",
          "data": {
            "text/plain": [
              "<matplotlib.axes._subplots.AxesSubplot at 0x7f3979e4ae80>"
            ]
          },
          "metadata": {
            "tags": []
          },
          "execution_count": 10
        },
        {
          "output_type": "display_data",
          "data": {
            "image/png": "[encoded data removed]",
            "text/plain": [
              "<Figure size 432x288 with 1 Axes>"
            ]
          },
          "metadata": {
            "tags": [],
            "needs_background": "light"
          }
        }
      ]
    },
    {
      "cell_type": "markdown",
      "metadata": {
        "id": "zIeEEetGYhf0",
        "colab_type": "text"
      },
      "source": [
        "#Question 4\n",
        "###Describe the distribution of the ages of the Best Actor Oscar winners. Be sure to address shape, center, spread and outliers (Dataset - Best Actor Oscar winners (1970-2013))"
      ]
    },
    {
      "cell_type": "code",
      "metadata": {
        "id": "Sx6kT_8UiY7b",
        "colab_type": "code",
        "colab": {}
      },
      "source": [
        "df3 = pd.read_csv('actor_age.xls')"
      ],
      "execution_count": 11,
      "outputs": []
    },
    {
      "cell_type": "code",
      "metadata": {
        "id": "yVM34zhci5HM",
        "colab_type": "code",
        "colab": {
          "base_uri": "https://localhost:8080/",
          "height": 195
        },
        "outputId": "8afe06ce-30aa-4f1e-f65b-4ab8e4e81112"
      },
      "source": [
        "df3.head()"
      ],
      "execution_count": 12,
      "outputs": [
        {
          "output_type": "execute_result",
          "data": {
            "text/html": [
              "<div>\n",
              "<style scoped>\n",
              "    .dataframe tbody tr th:only-of-type {\n",
              "        vertical-align: middle;\n",
              "    }\n",
              "\n",
              "    .dataframe tbody tr th {\n",
              "        vertical-align: top;\n",
              "    }\n",
              "\n",
              "    .dataframe thead th {\n",
              "        text-align: right;\n",
              "    }\n",
              "</style>\n",
              "<table border=\"1\" class=\"dataframe\">\n",
              "  <thead>\n",
              "    <tr style=\"text-align: right;\">\n",
              "      <th></th>\n",
              "      <th>Unnamed: 0</th>\n",
              "      <th>Age</th>\n",
              "    </tr>\n",
              "  </thead>\n",
              "  <tbody>\n",
              "    <tr>\n",
              "      <th>0</th>\n",
              "      <td>1</td>\n",
              "      <td>43</td>\n",
              "    </tr>\n",
              "    <tr>\n",
              "      <th>1</th>\n",
              "      <td>2</td>\n",
              "      <td>42</td>\n",
              "    </tr>\n",
              "    <tr>\n",
              "      <th>2</th>\n",
              "      <td>3</td>\n",
              "      <td>48</td>\n",
              "    </tr>\n",
              "    <tr>\n",
              "      <th>3</th>\n",
              "      <td>4</td>\n",
              "      <td>49</td>\n",
              "    </tr>\n",
              "    <tr>\n",
              "      <th>4</th>\n",
              "      <td>5</td>\n",
              "      <td>56</td>\n",
              "    </tr>\n",
              "  </tbody>\n",
              "</table>\n",
              "</div>"
            ],
            "text/plain": [
              "   Unnamed: 0  Age\n",
              "0           1   43\n",
              "1           2   42\n",
              "2           3   48\n",
              "3           4   49\n",
              "4           5   56"
            ]
          },
          "metadata": {
            "tags": []
          },
          "execution_count": 12
        }
      ]
    },
    {
      "cell_type": "code",
      "metadata": {
        "id": "ujIyUYm9i3kA",
        "colab_type": "code",
        "colab": {
          "base_uri": "https://localhost:8080/",
          "height": 175
        },
        "outputId": "07204922-376b-4b07-c07b-3ed48c794b96"
      },
      "source": [
        "df3['Age'].describe()"
      ],
      "execution_count": 13,
      "outputs": [
        {
          "output_type": "execute_result",
          "data": {
            "text/plain": [
              "count    44.000000\n",
              "mean     44.977273\n",
              "std       9.749153\n",
              "min      29.000000\n",
              "25%      38.000000\n",
              "50%      43.500000\n",
              "75%      50.250000\n",
              "max      76.000000\n",
              "Name: Age, dtype: float64"
            ]
          },
          "metadata": {
            "tags": []
          },
          "execution_count": 13
        }
      ]
    },
    {
      "cell_type": "code",
      "metadata": {
        "id": "N1bYYwjykZJF",
        "colab_type": "code",
        "colab": {
          "base_uri": "https://localhost:8080/",
          "height": 282
        },
        "outputId": "7ecd553a-0723-40c0-c6de-1f8c38fa4e66"
      },
      "source": [
        "df3['Age'].hist()"
      ],
      "execution_count": 14,
      "outputs": [
        {
          "output_type": "execute_result",
          "data": {
            "text/plain": [
              "<matplotlib.axes._subplots.AxesSubplot at 0x7f3979da74e0>"
            ]
          },
          "metadata": {
            "tags": []
          },
          "execution_count": 14
        },
        {
          "output_type": "display_data",
          "data": {
            "image/png": "[encoded data removed]",
            "text/plain": [
              "<Figure size 432x288 with 1 Axes>"
            ]
          },
          "metadata": {
            "tags": [],
            "needs_background": "light"
          }
        }
      ]
    },
    {
      "cell_type": "code",
      "metadata": {
        "id": "enKBaKmQlMXG",
        "colab_type": "code",
        "colab": {
          "base_uri": "https://localhost:8080/",
          "height": 282
        },
        "outputId": "5e8e55af-082b-48fc-8524-f76747583d33"
      },
      "source": [
        "df3.boxplot(column=['Age'])"
      ],
      "execution_count": 15,
      "outputs": [
        {
          "output_type": "execute_result",
          "data": {
            "text/plain": [
              "<matplotlib.axes._subplots.AxesSubplot at 0x7f3979871128>"
            ]
          },
          "metadata": {
            "tags": []
          },
          "execution_count": 15
        },
        {
          "output_type": "display_data",
          "data": {
            "image/png": "[encoded data removed]",
            "text/plain": [
              "<Figure size 432x288 with 1 Axes>"
            ]
          },
          "metadata": {
            "tags": [],
            "needs_background": "light"
          }
        }
      ]
    },
    {
      "cell_type": "markdown",
      "metadata": {
        "id": "pfy1VyACkNpM",
        "colab_type": "text"
      },
      "source": [
        "There are 44 actors with a mean age of 44.977273, std of 9.749153. Distribution of ages is positively skewed ie more negative distribution than positive. An outlier also exists beyond age 70 (around 76)"
      ]
    },
    {
      "cell_type": "markdown",
      "metadata": {
        "id": "_N2nD8w0YnWF",
        "colab_type": "text"
      },
      "source": [
        "#Question 5\n",
        "###Getting information from the output: a. How many observations are in this data set? b. What is the mean age of the actors who won the Oscar? c. What is the five-number summary of the distribution? (Dataset - Best Actor Oscar winners (1970-2013))"
      ]
    },
    {
      "cell_type": "code",
      "metadata": {
        "id": "Zk6p3Obhly__",
        "colab_type": "code",
        "colab": {
          "base_uri": "https://localhost:8080/",
          "height": 175
        },
        "outputId": "d98c44b5-814a-4118-d832-2379e55de0ab"
      },
      "source": [
        "df3['Age'].describe()"
      ],
      "execution_count": 16,
      "outputs": [
        {
          "output_type": "execute_result",
          "data": {
            "text/plain": [
              "count    44.000000\n",
              "mean     44.977273\n",
              "std       9.749153\n",
              "min      29.000000\n",
              "25%      38.000000\n",
              "50%      43.500000\n",
              "75%      50.250000\n",
              "max      76.000000\n",
              "Name: Age, dtype: float64"
            ]
          },
          "metadata": {
            "tags": []
          },
          "execution_count": 16
        }
      ]
    },
    {
      "cell_type": "markdown",
      "metadata": {
        "id": "6o5bqymQnuCk",
        "colab_type": "text"
      },
      "source": [
        "There are 44 actors with a mean age of 44.977273"
      ]
    },
    {
      "cell_type": "markdown",
      "metadata": {
        "id": "vbpXjmiVYr5o",
        "colab_type": "text"
      },
      "source": [
        "#Question 6\n",
        "###Get information from the five-number summary: a. Half of the actors won the Oscar before what age? b. What is the range covered by all the actors' ages? c. What is the range covered by the middle 50% of the ages? (Dataset - Best Actor Oscar winners (1970-2013))"
      ]
    },
    {
      "cell_type": "code",
      "metadata": {
        "id": "sh0vI5i0oIa3",
        "colab_type": "code",
        "colab": {
          "base_uri": "https://localhost:8080/",
          "height": 175
        },
        "outputId": "a8da9781-b437-4e01-cec2-e46916c537c1"
      },
      "source": [
        "df3['Age'].describe()"
      ],
      "execution_count": 17,
      "outputs": [
        {
          "output_type": "execute_result",
          "data": {
            "text/plain": [
              "count    44.000000\n",
              "mean     44.977273\n",
              "std       9.749153\n",
              "min      29.000000\n",
              "25%      38.000000\n",
              "50%      43.500000\n",
              "75%      50.250000\n",
              "max      76.000000\n",
              "Name: Age, dtype: float64"
            ]
          },
          "metadata": {
            "tags": []
          },
          "execution_count": 17
        }
      ]
    },
    {
      "cell_type": "code",
      "metadata": {
        "id": "LEZo7fw_oeol",
        "colab_type": "code",
        "colab": {
          "base_uri": "https://localhost:8080/",
          "height": 34
        },
        "outputId": "72a8cbff-44a6-4315-d0c2-3e21d1bb0b7d"
      },
      "source": [
        "age_range = df3['Age'].describe()['max'] - df3['Age'].describe()['min']\n",
        "age_range"
      ],
      "execution_count": 18,
      "outputs": [
        {
          "output_type": "execute_result",
          "data": {
            "text/plain": [
              "47.0"
            ]
          },
          "metadata": {
            "tags": []
          },
          "execution_count": 18
        }
      ]
    },
    {
      "cell_type": "code",
      "metadata": {
        "id": "EF-XGxkupFBg",
        "colab_type": "code",
        "colab": {
          "base_uri": "https://localhost:8080/",
          "height": 34
        },
        "outputId": "ca6dd61f-50e1-4f03-e672-d8a87c2097b2"
      },
      "source": [
        "age_range_mid = df3['Age'].describe()['75%'] - df3['Age'].describe()['25%']\n",
        "age_range_mid"
      ],
      "execution_count": 19,
      "outputs": [
        {
          "output_type": "execute_result",
          "data": {
            "text/plain": [
              "12.25"
            ]
          },
          "metadata": {
            "tags": []
          },
          "execution_count": 19
        }
      ]
    },
    {
      "cell_type": "markdown",
      "metadata": {
        "id": "vbk-gySzoMy3",
        "colab_type": "text"
      },
      "source": [
        "a)Median age is 43.5, which means that half of the actors won the Oscar before this age \n",
        "\n",
        "---\n",
        "\n",
        "b)Range of ages is max - min = 47\n",
        "\n",
        "---\n",
        "\n",
        "c)Range covered by middle 50% = Q3-Q1 = 12.25\n"
      ]
    },
    {
      "cell_type": "markdown",
      "metadata": {
        "id": "XHQAxalKYvx5",
        "colab_type": "text"
      },
      "source": [
        "#Question 7\n",
        "###What are the standard deviations of the three rating distributions? Was your intuition correct? (Dataset - 27 students in the class were asked to rate the instructor on a number scale of 1 to 9)"
      ]
    },
    {
      "cell_type": "code",
      "metadata": {
        "id": "MYnBaSz9pcsw",
        "colab_type": "code",
        "colab": {}
      },
      "source": [
        "df4 = pd.read_csv('ratings.csv')"
      ],
      "execution_count": 20,
      "outputs": []
    },
    {
      "cell_type": "code",
      "metadata": {
        "id": "LjGuAZ55plxA",
        "colab_type": "code",
        "colab": {
          "base_uri": "https://localhost:8080/",
          "height": 195
        },
        "outputId": "c023f9ee-15ab-48fd-91df-32353a9a6359"
      },
      "source": [
        "df4.head()"
      ],
      "execution_count": 21,
      "outputs": [
        {
          "output_type": "execute_result",
          "data": {
            "text/html": [
              "<div>\n",
              "<style scoped>\n",
              "    .dataframe tbody tr th:only-of-type {\n",
              "        vertical-align: middle;\n",
              "    }\n",
              "\n",
              "    .dataframe tbody tr th {\n",
              "        vertical-align: top;\n",
              "    }\n",
              "\n",
              "    .dataframe thead th {\n",
              "        text-align: right;\n",
              "    }\n",
              "</style>\n",
              "<table border=\"1\" class=\"dataframe\">\n",
              "  <thead>\n",
              "    <tr style=\"text-align: right;\">\n",
              "      <th></th>\n",
              "      <th>Unnamed: 0</th>\n",
              "      <th>Class.I</th>\n",
              "      <th>Class.II</th>\n",
              "      <th>Class.III</th>\n",
              "    </tr>\n",
              "  </thead>\n",
              "  <tbody>\n",
              "    <tr>\n",
              "      <th>0</th>\n",
              "      <td>1</td>\n",
              "      <td>1</td>\n",
              "      <td>1</td>\n",
              "      <td>1</td>\n",
              "    </tr>\n",
              "    <tr>\n",
              "      <th>1</th>\n",
              "      <td>2</td>\n",
              "      <td>1</td>\n",
              "      <td>1</td>\n",
              "      <td>2</td>\n",
              "    </tr>\n",
              "    <tr>\n",
              "      <th>2</th>\n",
              "      <td>3</td>\n",
              "      <td>5</td>\n",
              "      <td>1</td>\n",
              "      <td>3</td>\n",
              "    </tr>\n",
              "    <tr>\n",
              "      <th>3</th>\n",
              "      <td>4</td>\n",
              "      <td>5</td>\n",
              "      <td>1</td>\n",
              "      <td>4</td>\n",
              "    </tr>\n",
              "    <tr>\n",
              "      <th>4</th>\n",
              "      <td>5</td>\n",
              "      <td>5</td>\n",
              "      <td>1</td>\n",
              "      <td>5</td>\n",
              "    </tr>\n",
              "  </tbody>\n",
              "</table>\n",
              "</div>"
            ],
            "text/plain": [
              "   Unnamed: 0  Class.I  Class.II  Class.III\n",
              "0           1        1         1          1\n",
              "1           2        1         1          2\n",
              "2           3        5         1          3\n",
              "3           4        5         1          4\n",
              "4           5        5         1          5"
            ]
          },
          "metadata": {
            "tags": []
          },
          "execution_count": 21
        }
      ]
    },
    {
      "cell_type": "code",
      "metadata": {
        "id": "Uxb4et5npnfN",
        "colab_type": "code",
        "colab": {
          "base_uri": "https://localhost:8080/",
          "height": 34
        },
        "outputId": "004819e9-e7f7-45cf-a434-3f525620ee8d"
      },
      "source": [
        "df4['Class.I'].std()"
      ],
      "execution_count": 22,
      "outputs": [
        {
          "output_type": "execute_result",
          "data": {
            "text/plain": [
              "1.5689290811054724"
            ]
          },
          "metadata": {
            "tags": []
          },
          "execution_count": 22
        }
      ]
    },
    {
      "cell_type": "code",
      "metadata": {
        "id": "2cMlJNhnr9Ud",
        "colab_type": "code",
        "colab": {
          "base_uri": "https://localhost:8080/",
          "height": 34
        },
        "outputId": "54fd89d9-cc39-4e82-d2b9-d0c7588e9c2a"
      },
      "source": [
        "df4['Class.II'].std()"
      ],
      "execution_count": 23,
      "outputs": [
        {
          "output_type": "execute_result",
          "data": {
            "text/plain": [
              "4.0"
            ]
          },
          "metadata": {
            "tags": []
          },
          "execution_count": 23
        }
      ]
    },
    {
      "cell_type": "code",
      "metadata": {
        "id": "DWe1n-q8sArG",
        "colab_type": "code",
        "colab": {
          "base_uri": "https://localhost:8080/",
          "height": 34
        },
        "outputId": "6e822766-a36f-4622-c947-db6ad4133140"
      },
      "source": [
        "df4['Class.III'].std()"
      ],
      "execution_count": 24,
      "outputs": [
        {
          "output_type": "execute_result",
          "data": {
            "text/plain": [
              "2.6311740579210876"
            ]
          },
          "metadata": {
            "tags": []
          },
          "execution_count": 24
        }
      ]
    },
    {
      "cell_type": "markdown",
      "metadata": {
        "id": "A6oT6X2JYz_L",
        "colab_type": "text"
      },
      "source": [
        "#Question 8\n",
        "###Assume that the average rating in each of the three classes is 5 (which should be visually reasonably clear from the histograms), and recall the interpretation of the SD as a \"typical\" or \"average\" distance between the data points and their mean. Judging from the table and the histograms, which class would have the largest standard deviation, and which one would have the smallest standard deviation? Explain your reasoning (Dataset - 27 students in the class were asked to rate the instructor on a number scale of 1 to 9)"
      ]
    },
    {
      "cell_type": "code",
      "metadata": {
        "id": "5A3VRvPTBqFw",
        "colab_type": "code",
        "colab": {}
      },
      "source": [
        "col_list = [x for x in range(df4.shape[1])]\n",
        "col_list.remove(0)\n",
        "df4 = df4.iloc[:,col_list]"
      ],
      "execution_count": 25,
      "outputs": []
    },
    {
      "cell_type": "code",
      "metadata": {
        "id": "QnFwudc5Nwjk",
        "colab_type": "code",
        "colab": {
          "base_uri": "https://localhost:8080/",
          "height": 34
        },
        "outputId": "e64c7f4b-35a5-4f60-e4f8-074783d40f46"
      },
      "source": [
        "df4.columns"
      ],
      "execution_count": 26,
      "outputs": [
        {
          "output_type": "execute_result",
          "data": {
            "text/plain": [
              "Index(['Class.I', 'Class.II', 'Class.III'], dtype='object')"
            ]
          },
          "metadata": {
            "tags": []
          },
          "execution_count": 26
        }
      ]
    },
    {
      "cell_type": "code",
      "metadata": {
        "id": "kM-DEvqvtKQB",
        "colab_type": "code",
        "colab": {
          "base_uri": "https://localhost:8080/",
          "height": 515
        },
        "outputId": "f9741985-0220-4ccb-8f98-f289cd09c9ed"
      },
      "source": [
        "plt.figure(figsize=(50,50))\n",
        "#plt.set_ylim = ((0,20))\n",
        "fig, axes = plt.subplots(ncols=len(df4.columns), figsize=(20,5))\n",
        "print(fig)\n",
        "print(axes)\n",
        "for col, ax in zip(df4,axes):\n",
        "  print(col)\n",
        "  print(ax)\n",
        " #ax.set_ylim = ((0,20))\n",
        "  df4[col].value_counts().sort_index().plot.bar(ax=ax,title=col)\n",
        "  ax.set_ylim(0, 30) "
      ],
      "execution_count": 27,
      "outputs": [
        {
          "output_type": "stream",
          "text": [
            "Figure(1440x360)\n",
            "[<matplotlib.axes._subplots.AxesSubplot object at 0x7f39797e0be0>\n",
            " <matplotlib.axes._subplots.AxesSubplot object at 0x7f397980fd30>\n",
            " <matplotlib.axes._subplots.AxesSubplot object at 0x7f39797c5f60>]\n",
            "Class.I\n",
            "AxesSubplot(0.125,0.125;0.227941x0.755)\n",
            "Class.II\n",
            "AxesSubplot(0.398529,0.125;0.227941x0.755)\n",
            "Class.III\n",
            "AxesSubplot(0.672059,0.125;0.227941x0.755)\n"
          ],
          "name": "stdout"
        },
        {
          "output_type": "display_data",
          "data": {
            "text/plain": [
              "<Figure size 3600x3600 with 0 Axes>"
            ]
          },
          "metadata": {
            "tags": []
          }
        },
        {
          "output_type": "display_data",
          "data": {
            "image/png": "[encoded data removed]",
            "text/plain": [
              "<Figure size 1440x360 with 3 Axes>"
            ]
          },
          "metadata": {
            "tags": [],
            "needs_background": "light"
          }
        }
      ]
    },
    {
      "cell_type": "markdown",
      "metadata": {
        "id": "5dzBrPfYTE3l",
        "colab_type": "text"
      },
      "source": [
        "Standard deviation can be measured as average distance from the mean. Using this and assuming mean to be around 5(as we can see from the above plotted histograms) we can infer:\n",
        "\n",
        "\n",
        "1.   Class I having most of the values near its mean of 5 has a lower spread and will have minimum standard deviation\n",
        "\n",
        "2.   Class II having least values near its mean of 5 has a greater spread and will have maximum standard deviation\n",
        "\n",
        "3.   Class III having values spread evenly across its entire distribution, will have a spread, and hence, standard deviation between those of the first two classes, since while some of the values lie close to the mean, many values also lie at greater distances from the mean\n",
        "\n",
        "Hence, order of standard deviation is: Class I > Class III > Class I\n",
        "\n"
      ]
    }
  ]
}