{
  "nbformat": 4,
  "nbformat_minor": 0,
  "metadata": {
    "colab": {
      "name": "ML_Lab6.ipynb",
      "provenance": [],
      "authorship_tag": "ABX9TyPxnTPL+9HxNzcf33gr7s81",
      "include_colab_link": true
    },
    "kernelspec": {
      "name": "python3",
      "display_name": "Python 3"
    },
    "accelerator": "GPU"
  },
  "cells": [
    {
      "cell_type": "markdown",
      "metadata": {
        "id": "view-in-github",
        "colab_type": "text"
      },
      "source": [
        "<a href=\"https://colab.research.google.com/github/Paymanshus/ML-Sem-V/blob/master/ML_J046_Lab6.ipynb\" target=\"_parent\"><img src=\"https://colab.research.google.com/assets/colab-badge.svg\" alt=\"Open In Colab\"/></a>"
      ]
    },
    {
      "cell_type": "markdown",
      "metadata": {
        "id": "r9mVCyJtPwzX"
      },
      "source": [
        "# Classification using Neural network models"
      ]
    },
    {
      "cell_type": "markdown",
      "metadata": {
        "id": "yyvpkT0BPx1c"
      },
      "source": [
        "## Objectives\n",
        "- Perform classification on bitcoin 2011 dataset\n",
        "- Select correct architecture for +75% accuracy on cross validation and test set for bitcoin 2011 dataset - 60%-20%-20% (Train-Crossval-Test split)\n",
        "- Plot accuracy vs validation acc and loss vs validation loss during epochs\n"
      ]
    },
    {
      "cell_type": "code",
      "metadata": {
        "id": "9lCkxxRnp3bF"
      },
      "source": [
        "import numpy as np\n",
        "import pandas as pd\n",
        "\n",
        "import matplotlib.pyplot as plt\n",
        "import seaborn as sns\n",
        "\n",
        "from sklearn.model_selection import train_test_split, cross_val_score\n",
        "from sklearn.preprocessing import StandardScaler"
      ],
      "execution_count": 1,
      "outputs": []
    },
    {
      "cell_type": "code",
      "metadata": {
        "id": "QK5s83XGrIM4",
        "outputId": "9b946963-7e0f-430e-dfd7-a36a2c1ab7a1",
        "colab": {
          "base_uri": "https://localhost:8080/"
        }
      },
      "source": [
        "!wget -O 2011gcn.csv https://raw.githubusercontent.com/pranavn91/blockchain/master/2011gcn.csv\n",
        "!wget -O tx2011partvertices_new.csv https://raw.githubusercontent.com/pranavn91/blockchain/master/tx2011partvertices_new.csv\n",
        "!wget -O tx2011partvertices.csv https://raw.githubusercontent.com/pranavn91/blockchain/master/tx2011partvertices.csv\n",
        " \n",
        "train1 = pd.read_csv('2011gcn.csv')\n",
        "train2 = pd.read_csv('tx2011partvertices_new.csv')\n",
        "train3 = pd.read_csv('tx2011partvertices.csv')"
      ],
      "execution_count": 2,
      "outputs": [
        {
          "output_type": "stream",
          "text": [
            "--2020-11-03 22:36:36--  https://raw.githubusercontent.com/pranavn91/blockchain/master/2011gcn.csv\n",
            "Resolving raw.githubusercontent.com (raw.githubusercontent.com)... 151.101.0.133, 151.101.64.133, 151.101.128.133, ...\n",
            "Connecting to raw.githubusercontent.com (raw.githubusercontent.com)|151.101.0.133|:443... connected.\n",
            "HTTP request sent, awaiting response... 200 OK\n",
            "Length: 12563086 (12M) [text/plain]\n",
            "Saving to: ‘2011gcn.csv’\n",
            "\n",
            "2011gcn.csv         100%[===================>]  11.98M  51.0MB/s    in 0.2s    \n",
            "\n",
            "2020-11-03 22:36:36 (51.0 MB/s) - ‘2011gcn.csv’ saved [12563086/12563086]\n",
            "\n",
            "--2020-11-03 22:36:36--  https://raw.githubusercontent.com/pranavn91/blockchain/master/tx2011partvertices_new.csv\n",
            "Resolving raw.githubusercontent.com (raw.githubusercontent.com)... 151.101.0.133, 151.101.64.133, 151.101.128.133, ...\n",
            "Connecting to raw.githubusercontent.com (raw.githubusercontent.com)|151.101.0.133|:443... connected.\n",
            "HTTP request sent, awaiting response... 200 OK\n",
            "Length: 12501458 (12M) [text/plain]\n",
            "Saving to: ‘tx2011partvertices_new.csv’\n",
            "\n",
            "tx2011partvertices_ 100%[===================>]  11.92M  35.0MB/s    in 0.3s    \n",
            "\n",
            "2020-11-03 22:36:37 (35.0 MB/s) - ‘tx2011partvertices_new.csv’ saved [12501458/12501458]\n",
            "\n",
            "--2020-11-03 22:36:37--  https://raw.githubusercontent.com/pranavn91/blockchain/master/tx2011partvertices.csv\n",
            "Resolving raw.githubusercontent.com (raw.githubusercontent.com)... 151.101.0.133, 151.101.64.133, 151.101.128.133, ...\n",
            "Connecting to raw.githubusercontent.com (raw.githubusercontent.com)|151.101.0.133|:443... connected.\n",
            "HTTP request sent, awaiting response... 200 OK\n",
            "Length: 1934257 (1.8M) [text/plain]\n",
            "Saving to: ‘tx2011partvertices.csv’\n",
            "\n",
            "tx2011partvertices. 100%[===================>]   1.84M  --.-KB/s    in 0.08s   \n",
            "\n",
            "2020-11-03 22:36:38 (23.5 MB/s) - ‘tx2011partvertices.csv’ saved [1934257/1934257]\n",
            "\n"
          ],
          "name": "stdout"
        }
      ]
    },
    {
      "cell_type": "code",
      "metadata": {
        "id": "NPDS3hgcrIP2",
        "outputId": "a45283a8-0914-435a-813c-38e1133290b4",
        "colab": {
          "base_uri": "https://localhost:8080/"
        }
      },
      "source": [
        "print('Train 1 Shape: ', train1.shape)\n",
        "print('Train 2 Shape: ', train2.shape)\n",
        "print('Train 3 Shape: ', train3.shape)"
      ],
      "execution_count": 3,
      "outputs": [
        {
          "output_type": "stream",
          "text": [
            "Train 1 Shape:  (96498, 17)\n",
            "Train 2 Shape:  (96498, 20)\n",
            "Train 3 Shape:  (96498, 2)\n"
          ],
          "name": "stdout"
        }
      ]
    },
    {
      "cell_type": "code",
      "metadata": {
        "id": "mh08qLB-rIV1",
        "outputId": "65461222-a950-4515-83ab-cde3f0f60907",
        "colab": {
          "base_uri": "https://localhost:8080/"
        }
      },
      "source": [
        "train1.info()"
      ],
      "execution_count": 4,
      "outputs": [
        {
          "output_type": "stream",
          "text": [
            "<class 'pandas.core.frame.DataFrame'>\n",
            "RangeIndex: 96498 entries, 0 to 96497\n",
            "Data columns (total 17 columns):\n",
            " #   Column      Non-Null Count  Dtype  \n",
            "---  ------      --------------  -----  \n",
            " 0   Unnamed: 0  96498 non-null  int64  \n",
            " 1   0           96498 non-null  float64\n",
            " 2   1           96498 non-null  float64\n",
            " 3   2           96498 non-null  float64\n",
            " 4   3           96498 non-null  float64\n",
            " 5   4           96498 non-null  float64\n",
            " 6   5           96498 non-null  float64\n",
            " 7   6           96498 non-null  float64\n",
            " 8   7           96498 non-null  float64\n",
            " 9   8           96498 non-null  float64\n",
            " 10  9           96498 non-null  float64\n",
            " 11  10          96498 non-null  float64\n",
            " 12  11          96498 non-null  float64\n",
            " 13  12          96498 non-null  float64\n",
            " 14  13          96498 non-null  float64\n",
            " 15  14          96498 non-null  float64\n",
            " 16  15          96498 non-null  float64\n",
            "dtypes: float64(16), int64(1)\n",
            "memory usage: 12.5 MB\n"
          ],
          "name": "stdout"
        }
      ]
    },
    {
      "cell_type": "code",
      "metadata": {
        "id": "HvcK0_mdrISd",
        "outputId": "6bc77bba-8a02-4c05-8db1-0cf133bf2819",
        "colab": {
          "base_uri": "https://localhost:8080/",
          "height": 195
        }
      },
      "source": [
        "train1.rename(columns={'Unnamed: 0':'index'}, inplace=True)\n",
        "train1['index'] = train1['index'] + 1\n",
        "train1.head()"
      ],
      "execution_count": 5,
      "outputs": [
        {
          "output_type": "execute_result",
          "data": {
            "text/html": [
              "<div>\n",
              "<style scoped>\n",
              "    .dataframe tbody tr th:only-of-type {\n",
              "        vertical-align: middle;\n",
              "    }\n",
              "\n",
              "    .dataframe tbody tr th {\n",
              "        vertical-align: top;\n",
              "    }\n",
              "\n",
              "    .dataframe thead th {\n",
              "        text-align: right;\n",
              "    }\n",
              "</style>\n",
              "<table border=\"1\" class=\"dataframe\">\n",
              "  <thead>\n",
              "    <tr style=\"text-align: right;\">\n",
              "      <th></th>\n",
              "      <th>index</th>\n",
              "      <th>0</th>\n",
              "      <th>1</th>\n",
              "      <th>2</th>\n",
              "      <th>3</th>\n",
              "      <th>4</th>\n",
              "      <th>5</th>\n",
              "      <th>6</th>\n",
              "      <th>7</th>\n",
              "      <th>8</th>\n",
              "      <th>9</th>\n",
              "      <th>10</th>\n",
              "      <th>11</th>\n",
              "      <th>12</th>\n",
              "      <th>13</th>\n",
              "      <th>14</th>\n",
              "      <th>15</th>\n",
              "    </tr>\n",
              "  </thead>\n",
              "  <tbody>\n",
              "    <tr>\n",
              "      <th>0</th>\n",
              "      <td>1</td>\n",
              "      <td>0.0</td>\n",
              "      <td>4.811244e+07</td>\n",
              "      <td>0.0</td>\n",
              "      <td>0.0</td>\n",
              "      <td>5.298934e+07</td>\n",
              "      <td>0.0</td>\n",
              "      <td>5.215435e+07</td>\n",
              "      <td>0.0</td>\n",
              "      <td>0.0</td>\n",
              "      <td>4.293262e+05</td>\n",
              "      <td>3.994267e+07</td>\n",
              "      <td>6.251989e+07</td>\n",
              "      <td>0.0</td>\n",
              "      <td>0.0</td>\n",
              "      <td>2.670458e+07</td>\n",
              "      <td>8.313858e+07</td>\n",
              "    </tr>\n",
              "    <tr>\n",
              "      <th>1</th>\n",
              "      <td>2</td>\n",
              "      <td>0.0</td>\n",
              "      <td>3.477977e+05</td>\n",
              "      <td>0.0</td>\n",
              "      <td>0.0</td>\n",
              "      <td>3.777575e+05</td>\n",
              "      <td>0.0</td>\n",
              "      <td>3.757520e+05</td>\n",
              "      <td>0.0</td>\n",
              "      <td>0.0</td>\n",
              "      <td>6.889133e+03</td>\n",
              "      <td>3.001618e+05</td>\n",
              "      <td>4.527358e+05</td>\n",
              "      <td>0.0</td>\n",
              "      <td>0.0</td>\n",
              "      <td>1.915057e+05</td>\n",
              "      <td>6.009039e+05</td>\n",
              "    </tr>\n",
              "    <tr>\n",
              "      <th>2</th>\n",
              "      <td>3</td>\n",
              "      <td>0.0</td>\n",
              "      <td>6.455196e+07</td>\n",
              "      <td>0.0</td>\n",
              "      <td>0.0</td>\n",
              "      <td>7.110790e+07</td>\n",
              "      <td>0.0</td>\n",
              "      <td>6.997804e+07</td>\n",
              "      <td>0.0</td>\n",
              "      <td>0.0</td>\n",
              "      <td>5.670157e+05</td>\n",
              "      <td>5.356332e+07</td>\n",
              "      <td>8.388026e+07</td>\n",
              "      <td>0.0</td>\n",
              "      <td>0.0</td>\n",
              "      <td>3.583296e+07</td>\n",
              "      <td>1.115463e+08</td>\n",
              "    </tr>\n",
              "    <tr>\n",
              "      <th>3</th>\n",
              "      <td>4</td>\n",
              "      <td>0.0</td>\n",
              "      <td>2.009876e+08</td>\n",
              "      <td>0.0</td>\n",
              "      <td>0.0</td>\n",
              "      <td>2.214679e+08</td>\n",
              "      <td>0.0</td>\n",
              "      <td>2.174101e+08</td>\n",
              "      <td>0.0</td>\n",
              "      <td>0.0</td>\n",
              "      <td>1.342720e+06</td>\n",
              "      <td>1.665389e+08</td>\n",
              "      <td>2.614420e+08</td>\n",
              "      <td>0.0</td>\n",
              "      <td>0.0</td>\n",
              "      <td>1.116514e+08</td>\n",
              "      <td>3.472892e+08</td>\n",
              "    </tr>\n",
              "    <tr>\n",
              "      <th>4</th>\n",
              "      <td>5</td>\n",
              "      <td>0.0</td>\n",
              "      <td>2.384675e+05</td>\n",
              "      <td>0.0</td>\n",
              "      <td>0.0</td>\n",
              "      <td>2.597246e+05</td>\n",
              "      <td>0.0</td>\n",
              "      <td>2.577884e+05</td>\n",
              "      <td>0.0</td>\n",
              "      <td>0.0</td>\n",
              "      <td>4.202993e+03</td>\n",
              "      <td>2.042845e+05</td>\n",
              "      <td>3.103489e+05</td>\n",
              "      <td>0.0</td>\n",
              "      <td>0.0</td>\n",
              "      <td>1.315073e+05</td>\n",
              "      <td>4.120424e+05</td>\n",
              "    </tr>\n",
              "  </tbody>\n",
              "</table>\n",
              "</div>"
            ],
            "text/plain": [
              "   index    0             1    2  ...   12   13            14            15\n",
              "0      1  0.0  4.811244e+07  0.0  ...  0.0  0.0  2.670458e+07  8.313858e+07\n",
              "1      2  0.0  3.477977e+05  0.0  ...  0.0  0.0  1.915057e+05  6.009039e+05\n",
              "2      3  0.0  6.455196e+07  0.0  ...  0.0  0.0  3.583296e+07  1.115463e+08\n",
              "3      4  0.0  2.009876e+08  0.0  ...  0.0  0.0  1.116514e+08  3.472892e+08\n",
              "4      5  0.0  2.384675e+05  0.0  ...  0.0  0.0  1.315073e+05  4.120424e+05\n",
              "\n",
              "[5 rows x 17 columns]"
            ]
          },
          "metadata": {
            "tags": []
          },
          "execution_count": 5
        }
      ]
    },
    {
      "cell_type": "code",
      "metadata": {
        "id": "ehKuKn8_rk23",
        "outputId": "41a51ab1-9e19-4489-cf61-80b04a26c17e",
        "colab": {
          "base_uri": "https://localhost:8080/"
        }
      },
      "source": [
        "train2.info()"
      ],
      "execution_count": 6,
      "outputs": [
        {
          "output_type": "stream",
          "text": [
            "<class 'pandas.core.frame.DataFrame'>\n",
            "RangeIndex: 96498 entries, 0 to 96497\n",
            "Data columns (total 20 columns):\n",
            " #   Column           Non-Null Count  Dtype  \n",
            "---  ------           --------------  -----  \n",
            " 0   Unnamed: 0       96498 non-null  int64  \n",
            " 1   txsize           96498 non-null  int64  \n",
            " 2   txvirtualsize    96498 non-null  int64  \n",
            " 3   txinputs_count   96498 non-null  int64  \n",
            " 4   txoutputs_count  96498 non-null  int64  \n",
            " 5   txinput_val      96498 non-null  float64\n",
            " 6   txoutput_val     96498 non-null  float64\n",
            " 7   txfee            96498 non-null  int64  \n",
            " 8   Min_received     96498 non-null  float64\n",
            " 9   Max_received     96498 non-null  float64\n",
            " 10  Avg_received     96498 non-null  float64\n",
            " 11  Total_received   96498 non-null  float64\n",
            " 12  Stdev_received   96498 non-null  float64\n",
            " 13  Var_received     96498 non-null  float64\n",
            " 14  Min_sent         96498 non-null  float64\n",
            " 15  Max_sent         96498 non-null  float64\n",
            " 16  Avg_sent         96498 non-null  float64\n",
            " 17  Total_sent       96498 non-null  float64\n",
            " 18  Stdev_sent       96498 non-null  float64\n",
            " 19  Var_sent         96498 non-null  float64\n",
            "dtypes: float64(14), int64(6)\n",
            "memory usage: 14.7 MB\n"
          ],
          "name": "stdout"
        }
      ]
    },
    {
      "cell_type": "code",
      "metadata": {
        "id": "oCM9KKnzrIZ-",
        "outputId": "79ff558b-cdcf-4203-ecd3-b0226ce3fcf3",
        "colab": {
          "base_uri": "https://localhost:8080/",
          "height": 215
        }
      },
      "source": [
        "train2.rename(columns={'Unnamed: 0':'index'}, inplace=True)\n",
        "train2.head()"
      ],
      "execution_count": 7,
      "outputs": [
        {
          "output_type": "execute_result",
          "data": {
            "text/html": [
              "<div>\n",
              "<style scoped>\n",
              "    .dataframe tbody tr th:only-of-type {\n",
              "        vertical-align: middle;\n",
              "    }\n",
              "\n",
              "    .dataframe tbody tr th {\n",
              "        vertical-align: top;\n",
              "    }\n",
              "\n",
              "    .dataframe thead th {\n",
              "        text-align: right;\n",
              "    }\n",
              "</style>\n",
              "<table border=\"1\" class=\"dataframe\">\n",
              "  <thead>\n",
              "    <tr style=\"text-align: right;\">\n",
              "      <th></th>\n",
              "      <th>index</th>\n",
              "      <th>txsize</th>\n",
              "      <th>txvirtualsize</th>\n",
              "      <th>txinputs_count</th>\n",
              "      <th>txoutputs_count</th>\n",
              "      <th>txinput_val</th>\n",
              "      <th>txoutput_val</th>\n",
              "      <th>txfee</th>\n",
              "      <th>Min_received</th>\n",
              "      <th>Max_received</th>\n",
              "      <th>Avg_received</th>\n",
              "      <th>Total_received</th>\n",
              "      <th>Stdev_received</th>\n",
              "      <th>Var_received</th>\n",
              "      <th>Min_sent</th>\n",
              "      <th>Max_sent</th>\n",
              "      <th>Avg_sent</th>\n",
              "      <th>Total_sent</th>\n",
              "      <th>Stdev_sent</th>\n",
              "      <th>Var_sent</th>\n",
              "    </tr>\n",
              "  </thead>\n",
              "  <tbody>\n",
              "    <tr>\n",
              "      <th>0</th>\n",
              "      <td>1</td>\n",
              "      <td>7369</td>\n",
              "      <td>7369</td>\n",
              "      <td>5</td>\n",
              "      <td>190</td>\n",
              "      <td>215000000.0</td>\n",
              "      <td>214600000.0</td>\n",
              "      <td>400000</td>\n",
              "      <td>0.0005</td>\n",
              "      <td>1.0000</td>\n",
              "      <td>0.011295</td>\n",
              "      <td>2.1460</td>\n",
              "      <td>0.081163</td>\n",
              "      <td>0.006587</td>\n",
              "      <td>0.0005</td>\n",
              "      <td>1.6700</td>\n",
              "      <td>0.4300</td>\n",
              "      <td>2.1500</td>\n",
              "      <td>0.703445</td>\n",
              "      <td>0.494835</td>\n",
              "    </tr>\n",
              "    <tr>\n",
              "      <th>1</th>\n",
              "      <td>2</td>\n",
              "      <td>293</td>\n",
              "      <td>293</td>\n",
              "      <td>1</td>\n",
              "      <td>3</td>\n",
              "      <td>4400000.0</td>\n",
              "      <td>4350000.0</td>\n",
              "      <td>50000</td>\n",
              "      <td>0.0010</td>\n",
              "      <td>0.0415</td>\n",
              "      <td>0.014500</td>\n",
              "      <td>0.0435</td>\n",
              "      <td>0.023383</td>\n",
              "      <td>0.000547</td>\n",
              "      <td>0.0440</td>\n",
              "      <td>0.0440</td>\n",
              "      <td>0.0440</td>\n",
              "      <td>0.0440</td>\n",
              "      <td>0.000000</td>\n",
              "      <td>0.000000</td>\n",
              "    </tr>\n",
              "    <tr>\n",
              "      <th>2</th>\n",
              "      <td>3</td>\n",
              "      <td>11139</td>\n",
              "      <td>11139</td>\n",
              "      <td>1</td>\n",
              "      <td>322</td>\n",
              "      <td>125000000.0</td>\n",
              "      <td>124400000.0</td>\n",
              "      <td>600000</td>\n",
              "      <td>0.0010</td>\n",
              "      <td>0.4460</td>\n",
              "      <td>0.003863</td>\n",
              "      <td>1.2440</td>\n",
              "      <td>0.024941</td>\n",
              "      <td>0.000622</td>\n",
              "      <td>1.2500</td>\n",
              "      <td>1.2500</td>\n",
              "      <td>1.2500</td>\n",
              "      <td>1.2500</td>\n",
              "      <td>0.000000</td>\n",
              "      <td>0.000000</td>\n",
              "    </tr>\n",
              "    <tr>\n",
              "      <th>3</th>\n",
              "      <td>4</td>\n",
              "      <td>495</td>\n",
              "      <td>495</td>\n",
              "      <td>1</td>\n",
              "      <td>9</td>\n",
              "      <td>27450000.0</td>\n",
              "      <td>27400000.0</td>\n",
              "      <td>50000</td>\n",
              "      <td>0.0010</td>\n",
              "      <td>0.2660</td>\n",
              "      <td>0.030444</td>\n",
              "      <td>0.2740</td>\n",
              "      <td>0.088333</td>\n",
              "      <td>0.007803</td>\n",
              "      <td>0.2745</td>\n",
              "      <td>0.2745</td>\n",
              "      <td>0.2745</td>\n",
              "      <td>0.2745</td>\n",
              "      <td>0.000000</td>\n",
              "      <td>0.000000</td>\n",
              "    </tr>\n",
              "    <tr>\n",
              "      <th>4</th>\n",
              "      <td>5</td>\n",
              "      <td>462</td>\n",
              "      <td>462</td>\n",
              "      <td>1</td>\n",
              "      <td>8</td>\n",
              "      <td>3000000.0</td>\n",
              "      <td>2950000.0</td>\n",
              "      <td>50000</td>\n",
              "      <td>0.0010</td>\n",
              "      <td>0.0225</td>\n",
              "      <td>0.003687</td>\n",
              "      <td>0.0295</td>\n",
              "      <td>0.007601</td>\n",
              "      <td>0.000058</td>\n",
              "      <td>0.0300</td>\n",
              "      <td>0.0300</td>\n",
              "      <td>0.0300</td>\n",
              "      <td>0.0300</td>\n",
              "      <td>0.000000</td>\n",
              "      <td>0.000000</td>\n",
              "    </tr>\n",
              "  </tbody>\n",
              "</table>\n",
              "</div>"
            ],
            "text/plain": [
              "   index  txsize  txvirtualsize  ...  Total_sent  Stdev_sent  Var_sent\n",
              "0      1    7369           7369  ...      2.1500    0.703445  0.494835\n",
              "1      2     293            293  ...      0.0440    0.000000  0.000000\n",
              "2      3   11139          11139  ...      1.2500    0.000000  0.000000\n",
              "3      4     495            495  ...      0.2745    0.000000  0.000000\n",
              "4      5     462            462  ...      0.0300    0.000000  0.000000\n",
              "\n",
              "[5 rows x 20 columns]"
            ]
          },
          "metadata": {
            "tags": []
          },
          "execution_count": 7
        }
      ]
    },
    {
      "cell_type": "code",
      "metadata": {
        "id": "D8XghayQrnBk",
        "outputId": "11dcfdfa-6a99-4d51-acf0-4b86da9e6f05",
        "colab": {
          "base_uri": "https://localhost:8080/"
        }
      },
      "source": [
        "train3.info()"
      ],
      "execution_count": 8,
      "outputs": [
        {
          "output_type": "stream",
          "text": [
            "<class 'pandas.core.frame.DataFrame'>\n",
            "RangeIndex: 96498 entries, 0 to 96497\n",
            "Data columns (total 2 columns):\n",
            " #   Column      Non-Null Count  Dtype \n",
            "---  ------      --------------  ----- \n",
            " 0   Unnamed: 0  96498 non-null  int64 \n",
            " 1   label       96498 non-null  object\n",
            "dtypes: int64(1), object(1)\n",
            "memory usage: 1.5+ MB\n"
          ],
          "name": "stdout"
        }
      ]
    },
    {
      "cell_type": "code",
      "metadata": {
        "id": "BxiUAmdfrIXO",
        "outputId": "78c7df50-440d-471a-862c-85e1c9123e15",
        "colab": {
          "base_uri": "https://localhost:8080/",
          "height": 195
        }
      },
      "source": [
        "train3.rename(columns={'Unnamed: 0':'index'}, inplace=True)\n",
        "train3.head()"
      ],
      "execution_count": 9,
      "outputs": [
        {
          "output_type": "execute_result",
          "data": {
            "text/html": [
              "<div>\n",
              "<style scoped>\n",
              "    .dataframe tbody tr th:only-of-type {\n",
              "        vertical-align: middle;\n",
              "    }\n",
              "\n",
              "    .dataframe tbody tr th {\n",
              "        vertical-align: top;\n",
              "    }\n",
              "\n",
              "    .dataframe thead th {\n",
              "        text-align: right;\n",
              "    }\n",
              "</style>\n",
              "<table border=\"1\" class=\"dataframe\">\n",
              "  <thead>\n",
              "    <tr style=\"text-align: right;\">\n",
              "      <th></th>\n",
              "      <th>index</th>\n",
              "      <th>label</th>\n",
              "    </tr>\n",
              "  </thead>\n",
              "  <tbody>\n",
              "    <tr>\n",
              "      <th>0</th>\n",
              "      <td>1</td>\n",
              "      <td>unclassified</td>\n",
              "    </tr>\n",
              "    <tr>\n",
              "      <th>1</th>\n",
              "      <td>2</td>\n",
              "      <td>donations</td>\n",
              "    </tr>\n",
              "    <tr>\n",
              "      <th>2</th>\n",
              "      <td>3</td>\n",
              "      <td>unclassified</td>\n",
              "    </tr>\n",
              "    <tr>\n",
              "      <th>3</th>\n",
              "      <td>4</td>\n",
              "      <td>donations</td>\n",
              "    </tr>\n",
              "    <tr>\n",
              "      <th>4</th>\n",
              "      <td>5</td>\n",
              "      <td>donations</td>\n",
              "    </tr>\n",
              "  </tbody>\n",
              "</table>\n",
              "</div>"
            ],
            "text/plain": [
              "   index         label\n",
              "0      1  unclassified\n",
              "1      2     donations\n",
              "2      3  unclassified\n",
              "3      4     donations\n",
              "4      5     donations"
            ]
          },
          "metadata": {
            "tags": []
          },
          "execution_count": 9
        }
      ]
    },
    {
      "cell_type": "code",
      "metadata": {
        "id": "WHo7l5Ywrz5y"
      },
      "source": [
        "results = pd.merge(train3, train1, on='index', how='inner')\n",
        "\n",
        "# split data into X and y\n",
        "X = results.iloc[:,2:18]\n",
        "Y1 = results['label']"
      ],
      "execution_count": 10,
      "outputs": []
    },
    {
      "cell_type": "code",
      "metadata": {
        "id": "KLKp6A3srz80",
        "outputId": "d698b982-7f20-4ea6-e831-905e3f3e6755",
        "colab": {
          "base_uri": "https://localhost:8080/",
          "height": 402
        }
      },
      "source": [
        "#from sklearn import preprocessing\n",
        "#le = preprocessing.LabelEncoder()\n",
        "#le.fit(results['label'].unique())\n",
        "Y_dummies = pd.get_dummies(Y1)\n",
        "#Y_tranform = le.transform(Y)\n",
        "#Y = pd.DataFrame(Y_transform)\n",
        "Y = Y_dummies\n",
        "Y"
      ],
      "execution_count": 11,
      "outputs": [
        {
          "output_type": "execute_result",
          "data": {
            "text/html": [
              "<div>\n",
              "<style scoped>\n",
              "    .dataframe tbody tr th:only-of-type {\n",
              "        vertical-align: middle;\n",
              "    }\n",
              "\n",
              "    .dataframe tbody tr th {\n",
              "        vertical-align: top;\n",
              "    }\n",
              "\n",
              "    .dataframe thead th {\n",
              "        text-align: right;\n",
              "    }\n",
              "</style>\n",
              "<table border=\"1\" class=\"dataframe\">\n",
              "  <thead>\n",
              "    <tr style=\"text-align: right;\">\n",
              "      <th></th>\n",
              "      <th>donations</th>\n",
              "      <th>exchange</th>\n",
              "      <th>mixer</th>\n",
              "      <th>paymentgateway</th>\n",
              "      <th>unclassified</th>\n",
              "      <th>wallets</th>\n",
              "    </tr>\n",
              "  </thead>\n",
              "  <tbody>\n",
              "    <tr>\n",
              "      <th>0</th>\n",
              "      <td>0</td>\n",
              "      <td>0</td>\n",
              "      <td>0</td>\n",
              "      <td>0</td>\n",
              "      <td>1</td>\n",
              "      <td>0</td>\n",
              "    </tr>\n",
              "    <tr>\n",
              "      <th>1</th>\n",
              "      <td>1</td>\n",
              "      <td>0</td>\n",
              "      <td>0</td>\n",
              "      <td>0</td>\n",
              "      <td>0</td>\n",
              "      <td>0</td>\n",
              "    </tr>\n",
              "    <tr>\n",
              "      <th>2</th>\n",
              "      <td>0</td>\n",
              "      <td>0</td>\n",
              "      <td>0</td>\n",
              "      <td>0</td>\n",
              "      <td>1</td>\n",
              "      <td>0</td>\n",
              "    </tr>\n",
              "    <tr>\n",
              "      <th>3</th>\n",
              "      <td>1</td>\n",
              "      <td>0</td>\n",
              "      <td>0</td>\n",
              "      <td>0</td>\n",
              "      <td>0</td>\n",
              "      <td>0</td>\n",
              "    </tr>\n",
              "    <tr>\n",
              "      <th>4</th>\n",
              "      <td>1</td>\n",
              "      <td>0</td>\n",
              "      <td>0</td>\n",
              "      <td>0</td>\n",
              "      <td>0</td>\n",
              "      <td>0</td>\n",
              "    </tr>\n",
              "    <tr>\n",
              "      <th>...</th>\n",
              "      <td>...</td>\n",
              "      <td>...</td>\n",
              "      <td>...</td>\n",
              "      <td>...</td>\n",
              "      <td>...</td>\n",
              "      <td>...</td>\n",
              "    </tr>\n",
              "    <tr>\n",
              "      <th>96493</th>\n",
              "      <td>1</td>\n",
              "      <td>0</td>\n",
              "      <td>0</td>\n",
              "      <td>0</td>\n",
              "      <td>0</td>\n",
              "      <td>0</td>\n",
              "    </tr>\n",
              "    <tr>\n",
              "      <th>96494</th>\n",
              "      <td>1</td>\n",
              "      <td>0</td>\n",
              "      <td>0</td>\n",
              "      <td>0</td>\n",
              "      <td>0</td>\n",
              "      <td>0</td>\n",
              "    </tr>\n",
              "    <tr>\n",
              "      <th>96495</th>\n",
              "      <td>1</td>\n",
              "      <td>0</td>\n",
              "      <td>0</td>\n",
              "      <td>0</td>\n",
              "      <td>0</td>\n",
              "      <td>0</td>\n",
              "    </tr>\n",
              "    <tr>\n",
              "      <th>96496</th>\n",
              "      <td>0</td>\n",
              "      <td>1</td>\n",
              "      <td>0</td>\n",
              "      <td>0</td>\n",
              "      <td>0</td>\n",
              "      <td>0</td>\n",
              "    </tr>\n",
              "    <tr>\n",
              "      <th>96497</th>\n",
              "      <td>0</td>\n",
              "      <td>1</td>\n",
              "      <td>0</td>\n",
              "      <td>0</td>\n",
              "      <td>0</td>\n",
              "      <td>0</td>\n",
              "    </tr>\n",
              "  </tbody>\n",
              "</table>\n",
              "<p>96498 rows × 6 columns</p>\n",
              "</div>"
            ],
            "text/plain": [
              "       donations  exchange  mixer  paymentgateway  unclassified  wallets\n",
              "0              0         0      0               0             1        0\n",
              "1              1         0      0               0             0        0\n",
              "2              0         0      0               0             1        0\n",
              "3              1         0      0               0             0        0\n",
              "4              1         0      0               0             0        0\n",
              "...          ...       ...    ...             ...           ...      ...\n",
              "96493          1         0      0               0             0        0\n",
              "96494          1         0      0               0             0        0\n",
              "96495          1         0      0               0             0        0\n",
              "96496          0         1      0               0             0        0\n",
              "96497          0         1      0               0             0        0\n",
              "\n",
              "[96498 rows x 6 columns]"
            ]
          },
          "metadata": {
            "tags": []
          },
          "execution_count": 11
        }
      ]
    },
    {
      "cell_type": "code",
      "metadata": {
        "id": "HSav4Ygar0AU",
        "outputId": "0071b973-9a11-4acd-d326-85b19d636b4a",
        "colab": {
          "base_uri": "https://localhost:8080/"
        }
      },
      "source": [
        "test_size = 0.4\n",
        "x_train, x_test, y_train, y_test = train_test_split(X, Y, test_size=test_size)\n",
        "x_val, x_test, y_val, y_test = train_test_split(x_test, y_test, test_size= 0.5)\n",
        "print(x_train.shape)\n",
        "print(x_val.shape)\n",
        "print(x_test.shape)\n",
        "print(y_train.shape)\n",
        "print(y_val.shape)\n",
        "print(y_test.shape)"
      ],
      "execution_count": 12,
      "outputs": [
        {
          "output_type": "stream",
          "text": [
            "(57898, 16)\n",
            "(19300, 16)\n",
            "(19300, 16)\n",
            "(57898, 6)\n",
            "(19300, 6)\n",
            "(19300, 6)\n"
          ],
          "name": "stdout"
        }
      ]
    },
    {
      "cell_type": "code",
      "metadata": {
        "id": "cxHYgHNSsCun"
      },
      "source": [
        "from keras import models\n",
        "from keras import layers\n",
        "nn=models.Sequential()"
      ],
      "execution_count": 13,
      "outputs": []
    },
    {
      "cell_type": "code",
      "metadata": {
        "id": "gOhvWXDMsCye"
      },
      "source": [
        "nn.add(layers.Dense(1024,activation = \"tanh\",input_shape=(16,))) \n",
        "nn.add(layers.Dense(512,activation=\"relu\"))\n",
        "nn.add(layers.Dense(256,activation=\"sigmoid\"))\n",
        "nn.add(layers.Dense(128,activation=\"tanh\"))\n",
        "nn.add(layers.Dense(64,activation=\"sigmoid\"))\n",
        "nn.add(layers.Dense(32,activation=\"relu\"))\n",
        "nn.add(layers.Dense(6,activation=\"softmax\"))"
      ],
      "execution_count": 14,
      "outputs": []
    },
    {
      "cell_type": "code",
      "metadata": {
        "id": "yu_SEvfKsC6n",
        "outputId": "bd0837b9-4a36-4c4a-a9c1-ad32fd389f71",
        "colab": {
          "base_uri": "https://localhost:8080/"
        }
      },
      "source": [
        "nn.summary()"
      ],
      "execution_count": 15,
      "outputs": [
        {
          "output_type": "stream",
          "text": [
            "Model: \"sequential\"\n",
            "_________________________________________________________________\n",
            "Layer (type)                 Output Shape              Param #   \n",
            "=================================================================\n",
            "dense (Dense)                (None, 1024)              17408     \n",
            "_________________________________________________________________\n",
            "dense_1 (Dense)              (None, 512)               524800    \n",
            "_________________________________________________________________\n",
            "dense_2 (Dense)              (None, 256)               131328    \n",
            "_________________________________________________________________\n",
            "dense_3 (Dense)              (None, 128)               32896     \n",
            "_________________________________________________________________\n",
            "dense_4 (Dense)              (None, 64)                8256      \n",
            "_________________________________________________________________\n",
            "dense_5 (Dense)              (None, 32)                2080      \n",
            "_________________________________________________________________\n",
            "dense_6 (Dense)              (None, 6)                 198       \n",
            "=================================================================\n",
            "Total params: 716,966\n",
            "Trainable params: 716,966\n",
            "Non-trainable params: 0\n",
            "_________________________________________________________________\n"
          ],
          "name": "stdout"
        }
      ]
    },
    {
      "cell_type": "code",
      "metadata": {
        "id": "FlvwOJKts14U"
      },
      "source": [
        "nn.compile(optimizer='sgd',\n",
        "           loss='categorical_crossentropy',\n",
        "           metrics=['accuracy'])"
      ],
      "execution_count": 16,
      "outputs": []
    },
    {
      "cell_type": "code",
      "metadata": {
        "id": "e4o7t4k0s1_P",
        "outputId": "b34beb87-58ef-4c5b-9d02-82e948fef055",
        "colab": {
          "base_uri": "https://localhost:8080/"
        }
      },
      "source": [
        "history = nn.fit(x_train, y_train,\n",
        "                 batch_size=128,\n",
        "                 epochs =100,\n",
        "                 validation_data=(x_val, y_val))"
      ],
      "execution_count": 17,
      "outputs": [
        {
          "output_type": "stream",
          "text": [
            "Epoch 1/100\n",
            "453/453 [==============================] - 2s 4ms/step - loss: 0.6694 - accuracy: 0.8291 - val_loss: 0.6293 - val_accuracy: 0.8336\n",
            "Epoch 2/100\n",
            "453/453 [==============================] - 2s 4ms/step - loss: 0.6250 - accuracy: 0.8326 - val_loss: 0.6122 - val_accuracy: 0.8336\n",
            "Epoch 3/100\n",
            "453/453 [==============================] - 2s 3ms/step - loss: 0.6038 - accuracy: 0.8326 - val_loss: 0.5891 - val_accuracy: 0.8336\n",
            "Epoch 4/100\n",
            "453/453 [==============================] - 2s 4ms/step - loss: 0.5824 - accuracy: 0.8502 - val_loss: 0.5712 - val_accuracy: 0.8622\n",
            "Epoch 5/100\n",
            "453/453 [==============================] - 2s 4ms/step - loss: 0.5715 - accuracy: 0.8615 - val_loss: 0.5657 - val_accuracy: 0.8652\n",
            "Epoch 6/100\n",
            "453/453 [==============================] - 2s 4ms/step - loss: 0.5672 - accuracy: 0.8635 - val_loss: 0.5622 - val_accuracy: 0.8652\n",
            "Epoch 7/100\n",
            "453/453 [==============================] - 2s 4ms/step - loss: 0.5654 - accuracy: 0.8635 - val_loss: 0.5595 - val_accuracy: 0.8652\n",
            "Epoch 8/100\n",
            "453/453 [==============================] - 2s 4ms/step - loss: 0.5642 - accuracy: 0.8635 - val_loss: 0.5585 - val_accuracy: 0.8651\n",
            "Epoch 9/100\n",
            "453/453 [==============================] - 2s 4ms/step - loss: 0.5636 - accuracy: 0.8635 - val_loss: 0.5576 - val_accuracy: 0.8652\n",
            "Epoch 10/100\n",
            "453/453 [==============================] - 2s 4ms/step - loss: 0.5628 - accuracy: 0.8636 - val_loss: 0.5589 - val_accuracy: 0.8653\n",
            "Epoch 11/100\n",
            "453/453 [==============================] - 2s 4ms/step - loss: 0.5623 - accuracy: 0.8636 - val_loss: 0.5564 - val_accuracy: 0.8652\n",
            "Epoch 12/100\n",
            "453/453 [==============================] - 2s 4ms/step - loss: 0.5618 - accuracy: 0.8636 - val_loss: 0.5571 - val_accuracy: 0.8652\n",
            "Epoch 13/100\n",
            "453/453 [==============================] - 2s 4ms/step - loss: 0.5615 - accuracy: 0.8636 - val_loss: 0.5567 - val_accuracy: 0.8651\n",
            "Epoch 14/100\n",
            "453/453 [==============================] - 2s 4ms/step - loss: 0.5610 - accuracy: 0.8636 - val_loss: 0.5574 - val_accuracy: 0.8652\n",
            "Epoch 15/100\n",
            "453/453 [==============================] - 2s 4ms/step - loss: 0.5606 - accuracy: 0.8636 - val_loss: 0.5563 - val_accuracy: 0.8651\n",
            "Epoch 16/100\n",
            "453/453 [==============================] - 2s 4ms/step - loss: 0.5602 - accuracy: 0.8636 - val_loss: 0.5543 - val_accuracy: 0.8653\n",
            "Epoch 17/100\n",
            "453/453 [==============================] - 2s 4ms/step - loss: 0.5601 - accuracy: 0.8636 - val_loss: 0.5545 - val_accuracy: 0.8653\n",
            "Epoch 18/100\n",
            "453/453 [==============================] - 2s 4ms/step - loss: 0.5597 - accuracy: 0.8636 - val_loss: 0.5537 - val_accuracy: 0.8653\n",
            "Epoch 19/100\n",
            "453/453 [==============================] - 2s 4ms/step - loss: 0.5592 - accuracy: 0.8636 - val_loss: 0.5531 - val_accuracy: 0.8651\n",
            "Epoch 20/100\n",
            "453/453 [==============================] - 2s 4ms/step - loss: 0.5591 - accuracy: 0.8636 - val_loss: 0.5534 - val_accuracy: 0.8651\n",
            "Epoch 21/100\n",
            "453/453 [==============================] - 2s 4ms/step - loss: 0.5585 - accuracy: 0.8635 - val_loss: 0.5553 - val_accuracy: 0.8650\n",
            "Epoch 22/100\n",
            "453/453 [==============================] - 2s 4ms/step - loss: 0.5583 - accuracy: 0.8635 - val_loss: 0.5534 - val_accuracy: 0.8653\n",
            "Epoch 23/100\n",
            "453/453 [==============================] - 2s 4ms/step - loss: 0.5581 - accuracy: 0.8635 - val_loss: 0.5518 - val_accuracy: 0.8651\n",
            "Epoch 24/100\n",
            "453/453 [==============================] - 2s 4ms/step - loss: 0.5579 - accuracy: 0.8635 - val_loss: 0.5514 - val_accuracy: 0.8651\n",
            "Epoch 25/100\n",
            "453/453 [==============================] - 2s 4ms/step - loss: 0.5576 - accuracy: 0.8635 - val_loss: 0.5521 - val_accuracy: 0.8651\n",
            "Epoch 26/100\n",
            "453/453 [==============================] - 2s 4ms/step - loss: 0.5572 - accuracy: 0.8635 - val_loss: 0.5525 - val_accuracy: 0.8650\n",
            "Epoch 27/100\n",
            "453/453 [==============================] - 2s 4ms/step - loss: 0.5570 - accuracy: 0.8635 - val_loss: 0.5546 - val_accuracy: 0.8650\n",
            "Epoch 28/100\n",
            "453/453 [==============================] - 2s 4ms/step - loss: 0.5569 - accuracy: 0.8634 - val_loss: 0.5508 - val_accuracy: 0.8651\n",
            "Epoch 29/100\n",
            "453/453 [==============================] - 2s 4ms/step - loss: 0.5569 - accuracy: 0.8636 - val_loss: 0.5504 - val_accuracy: 0.8650\n",
            "Epoch 30/100\n",
            "453/453 [==============================] - 2s 4ms/step - loss: 0.5567 - accuracy: 0.8634 - val_loss: 0.5526 - val_accuracy: 0.8650\n",
            "Epoch 31/100\n",
            "453/453 [==============================] - 2s 4ms/step - loss: 0.5568 - accuracy: 0.8634 - val_loss: 0.5501 - val_accuracy: 0.8650\n",
            "Epoch 32/100\n",
            "453/453 [==============================] - 2s 4ms/step - loss: 0.5565 - accuracy: 0.8635 - val_loss: 0.5499 - val_accuracy: 0.8650\n",
            "Epoch 33/100\n",
            "453/453 [==============================] - 2s 4ms/step - loss: 0.5563 - accuracy: 0.8634 - val_loss: 0.5508 - val_accuracy: 0.8651\n",
            "Epoch 34/100\n",
            "453/453 [==============================] - 2s 4ms/step - loss: 0.5562 - accuracy: 0.8634 - val_loss: 0.5531 - val_accuracy: 0.8649\n",
            "Epoch 35/100\n",
            "453/453 [==============================] - 2s 4ms/step - loss: 0.5561 - accuracy: 0.8634 - val_loss: 0.5709 - val_accuracy: 0.8653\n",
            "Epoch 36/100\n",
            "453/453 [==============================] - 2s 4ms/step - loss: 0.5560 - accuracy: 0.8633 - val_loss: 0.5495 - val_accuracy: 0.8651\n",
            "Epoch 37/100\n",
            "453/453 [==============================] - 2s 4ms/step - loss: 0.5559 - accuracy: 0.8635 - val_loss: 0.5659 - val_accuracy: 0.8653\n",
            "Epoch 38/100\n",
            "453/453 [==============================] - 2s 4ms/step - loss: 0.5556 - accuracy: 0.8634 - val_loss: 0.5504 - val_accuracy: 0.8650\n",
            "Epoch 39/100\n",
            "453/453 [==============================] - 2s 4ms/step - loss: 0.5554 - accuracy: 0.8634 - val_loss: 0.5572 - val_accuracy: 0.8647\n",
            "Epoch 40/100\n",
            "453/453 [==============================] - 2s 4ms/step - loss: 0.5554 - accuracy: 0.8634 - val_loss: 0.5490 - val_accuracy: 0.8651\n",
            "Epoch 41/100\n",
            "453/453 [==============================] - 2s 4ms/step - loss: 0.5554 - accuracy: 0.8633 - val_loss: 0.5497 - val_accuracy: 0.8651\n",
            "Epoch 42/100\n",
            "453/453 [==============================] - 2s 4ms/step - loss: 0.5552 - accuracy: 0.8634 - val_loss: 0.5495 - val_accuracy: 0.8651\n",
            "Epoch 43/100\n",
            "453/453 [==============================] - 2s 4ms/step - loss: 0.5552 - accuracy: 0.8634 - val_loss: 0.5486 - val_accuracy: 0.8651\n",
            "Epoch 44/100\n",
            "453/453 [==============================] - 2s 4ms/step - loss: 0.5550 - accuracy: 0.8634 - val_loss: 0.5604 - val_accuracy: 0.8652\n",
            "Epoch 45/100\n",
            "453/453 [==============================] - 2s 4ms/step - loss: 0.5549 - accuracy: 0.8634 - val_loss: 0.5482 - val_accuracy: 0.8650\n",
            "Epoch 46/100\n",
            "453/453 [==============================] - 2s 4ms/step - loss: 0.5545 - accuracy: 0.8635 - val_loss: 0.5495 - val_accuracy: 0.8649\n",
            "Epoch 47/100\n",
            "453/453 [==============================] - 2s 4ms/step - loss: 0.5544 - accuracy: 0.8634 - val_loss: 0.5480 - val_accuracy: 0.8651\n",
            "Epoch 48/100\n",
            "453/453 [==============================] - 2s 4ms/step - loss: 0.5547 - accuracy: 0.8634 - val_loss: 0.5543 - val_accuracy: 0.8654\n",
            "Epoch 49/100\n",
            "453/453 [==============================] - 2s 4ms/step - loss: 0.5544 - accuracy: 0.8634 - val_loss: 0.5478 - val_accuracy: 0.8650\n",
            "Epoch 50/100\n",
            "453/453 [==============================] - 2s 3ms/step - loss: 0.5542 - accuracy: 0.8636 - val_loss: 0.5495 - val_accuracy: 0.8654\n",
            "Epoch 51/100\n",
            "453/453 [==============================] - 2s 4ms/step - loss: 0.5541 - accuracy: 0.8634 - val_loss: 0.5505 - val_accuracy: 0.8654\n",
            "Epoch 52/100\n",
            "453/453 [==============================] - 2s 4ms/step - loss: 0.5540 - accuracy: 0.8634 - val_loss: 0.5474 - val_accuracy: 0.8651\n",
            "Epoch 53/100\n",
            "453/453 [==============================] - 2s 4ms/step - loss: 0.5539 - accuracy: 0.8635 - val_loss: 0.5494 - val_accuracy: 0.8653\n",
            "Epoch 54/100\n",
            "453/453 [==============================] - 2s 4ms/step - loss: 0.5538 - accuracy: 0.8635 - val_loss: 0.5478 - val_accuracy: 0.8655\n",
            "Epoch 55/100\n",
            "453/453 [==============================] - 2s 4ms/step - loss: 0.5536 - accuracy: 0.8636 - val_loss: 0.5476 - val_accuracy: 0.8653\n",
            "Epoch 56/100\n",
            "453/453 [==============================] - 2s 4ms/step - loss: 0.5533 - accuracy: 0.8636 - val_loss: 0.5471 - val_accuracy: 0.8652\n",
            "Epoch 57/100\n",
            "453/453 [==============================] - 2s 4ms/step - loss: 0.5534 - accuracy: 0.8637 - val_loss: 0.5478 - val_accuracy: 0.8654\n",
            "Epoch 58/100\n",
            "453/453 [==============================] - 2s 3ms/step - loss: 0.5529 - accuracy: 0.8638 - val_loss: 0.5489 - val_accuracy: 0.8654\n",
            "Epoch 59/100\n",
            "453/453 [==============================] - 2s 4ms/step - loss: 0.5534 - accuracy: 0.8636 - val_loss: 0.5510 - val_accuracy: 0.8655\n",
            "Epoch 60/100\n",
            "453/453 [==============================] - 2s 4ms/step - loss: 0.5529 - accuracy: 0.8637 - val_loss: 0.5477 - val_accuracy: 0.8656\n",
            "Epoch 61/100\n",
            "453/453 [==============================] - 2s 4ms/step - loss: 0.5527 - accuracy: 0.8636 - val_loss: 0.5460 - val_accuracy: 0.8659\n",
            "Epoch 62/100\n",
            "453/453 [==============================] - 2s 4ms/step - loss: 0.5527 - accuracy: 0.8638 - val_loss: 0.5459 - val_accuracy: 0.8659\n",
            "Epoch 63/100\n",
            "453/453 [==============================] - 2s 4ms/step - loss: 0.5524 - accuracy: 0.8637 - val_loss: 0.5460 - val_accuracy: 0.8653\n",
            "Epoch 64/100\n",
            "453/453 [==============================] - 2s 4ms/step - loss: 0.5526 - accuracy: 0.8638 - val_loss: 0.5485 - val_accuracy: 0.8656\n",
            "Epoch 65/100\n",
            "453/453 [==============================] - 2s 4ms/step - loss: 0.5522 - accuracy: 0.8638 - val_loss: 0.5460 - val_accuracy: 0.8653\n",
            "Epoch 66/100\n",
            "453/453 [==============================] - 2s 4ms/step - loss: 0.5524 - accuracy: 0.8639 - val_loss: 0.5534 - val_accuracy: 0.8654\n",
            "Epoch 67/100\n",
            "453/453 [==============================] - 2s 4ms/step - loss: 0.5522 - accuracy: 0.8638 - val_loss: 0.5454 - val_accuracy: 0.8658\n",
            "Epoch 68/100\n",
            "453/453 [==============================] - 2s 4ms/step - loss: 0.5516 - accuracy: 0.8637 - val_loss: 0.5450 - val_accuracy: 0.8659\n",
            "Epoch 69/100\n",
            "453/453 [==============================] - 2s 4ms/step - loss: 0.5517 - accuracy: 0.8639 - val_loss: 0.5504 - val_accuracy: 0.8653\n",
            "Epoch 70/100\n",
            "453/453 [==============================] - 2s 4ms/step - loss: 0.5518 - accuracy: 0.8638 - val_loss: 0.5450 - val_accuracy: 0.8658\n",
            "Epoch 71/100\n",
            "453/453 [==============================] - 2s 4ms/step - loss: 0.5519 - accuracy: 0.8638 - val_loss: 0.5519 - val_accuracy: 0.8654\n",
            "Epoch 72/100\n",
            "453/453 [==============================] - 2s 4ms/step - loss: 0.5512 - accuracy: 0.8640 - val_loss: 0.5452 - val_accuracy: 0.8655\n",
            "Epoch 73/100\n",
            "453/453 [==============================] - 2s 4ms/step - loss: 0.5513 - accuracy: 0.8639 - val_loss: 0.5448 - val_accuracy: 0.8656\n",
            "Epoch 74/100\n",
            "453/453 [==============================] - 2s 4ms/step - loss: 0.5514 - accuracy: 0.8638 - val_loss: 0.5484 - val_accuracy: 0.8655\n",
            "Epoch 75/100\n",
            "453/453 [==============================] - 2s 4ms/step - loss: 0.5512 - accuracy: 0.8638 - val_loss: 0.5454 - val_accuracy: 0.8660\n",
            "Epoch 76/100\n",
            "453/453 [==============================] - 2s 4ms/step - loss: 0.5508 - accuracy: 0.8639 - val_loss: 0.5443 - val_accuracy: 0.8657\n",
            "Epoch 77/100\n",
            "453/453 [==============================] - 2s 4ms/step - loss: 0.5510 - accuracy: 0.8639 - val_loss: 0.5450 - val_accuracy: 0.8658\n",
            "Epoch 78/100\n",
            "453/453 [==============================] - 2s 4ms/step - loss: 0.5506 - accuracy: 0.8639 - val_loss: 0.5477 - val_accuracy: 0.8660\n",
            "Epoch 79/100\n",
            "453/453 [==============================] - 2s 4ms/step - loss: 0.5506 - accuracy: 0.8640 - val_loss: 0.5481 - val_accuracy: 0.8660\n",
            "Epoch 80/100\n",
            "453/453 [==============================] - 2s 4ms/step - loss: 0.5505 - accuracy: 0.8641 - val_loss: 0.5476 - val_accuracy: 0.8660\n",
            "Epoch 81/100\n",
            "453/453 [==============================] - 2s 4ms/step - loss: 0.5504 - accuracy: 0.8640 - val_loss: 0.5450 - val_accuracy: 0.8659\n",
            "Epoch 82/100\n",
            "453/453 [==============================] - 2s 4ms/step - loss: 0.5503 - accuracy: 0.8640 - val_loss: 0.5459 - val_accuracy: 0.8656\n",
            "Epoch 83/100\n",
            "453/453 [==============================] - 2s 4ms/step - loss: 0.5501 - accuracy: 0.8641 - val_loss: 0.5471 - val_accuracy: 0.8654\n",
            "Epoch 84/100\n",
            "453/453 [==============================] - 2s 4ms/step - loss: 0.5497 - accuracy: 0.8641 - val_loss: 0.5437 - val_accuracy: 0.8657\n",
            "Epoch 85/100\n",
            "453/453 [==============================] - 2s 4ms/step - loss: 0.5499 - accuracy: 0.8641 - val_loss: 0.5464 - val_accuracy: 0.8660\n",
            "Epoch 86/100\n",
            "453/453 [==============================] - 2s 4ms/step - loss: 0.5500 - accuracy: 0.8642 - val_loss: 0.5499 - val_accuracy: 0.8654\n",
            "Epoch 87/100\n",
            "453/453 [==============================] - 2s 4ms/step - loss: 0.5497 - accuracy: 0.8641 - val_loss: 0.5663 - val_accuracy: 0.8659\n",
            "Epoch 88/100\n",
            "453/453 [==============================] - 2s 3ms/step - loss: 0.5499 - accuracy: 0.8640 - val_loss: 0.5443 - val_accuracy: 0.8656\n",
            "Epoch 89/100\n",
            "453/453 [==============================] - 2s 4ms/step - loss: 0.5494 - accuracy: 0.8641 - val_loss: 0.5587 - val_accuracy: 0.8655\n",
            "Epoch 90/100\n",
            "453/453 [==============================] - 2s 4ms/step - loss: 0.5496 - accuracy: 0.8641 - val_loss: 0.5451 - val_accuracy: 0.8657\n",
            "Epoch 91/100\n",
            "453/453 [==============================] - 2s 4ms/step - loss: 0.5495 - accuracy: 0.8645 - val_loss: 0.5428 - val_accuracy: 0.8661\n",
            "Epoch 92/100\n",
            "453/453 [==============================] - 2s 4ms/step - loss: 0.5496 - accuracy: 0.8643 - val_loss: 0.5456 - val_accuracy: 0.8663\n",
            "Epoch 93/100\n",
            "453/453 [==============================] - 2s 4ms/step - loss: 0.5492 - accuracy: 0.8643 - val_loss: 0.5445 - val_accuracy: 0.8654\n",
            "Epoch 94/100\n",
            "453/453 [==============================] - 2s 4ms/step - loss: 0.5492 - accuracy: 0.8643 - val_loss: 0.5436 - val_accuracy: 0.8663\n",
            "Epoch 95/100\n",
            "453/453 [==============================] - 2s 4ms/step - loss: 0.5488 - accuracy: 0.8646 - val_loss: 0.5437 - val_accuracy: 0.8661\n",
            "Epoch 96/100\n",
            "453/453 [==============================] - 2s 4ms/step - loss: 0.5487 - accuracy: 0.8647 - val_loss: 0.5436 - val_accuracy: 0.8661\n",
            "Epoch 97/100\n",
            "453/453 [==============================] - 2s 4ms/step - loss: 0.5487 - accuracy: 0.8646 - val_loss: 0.5436 - val_accuracy: 0.8653\n",
            "Epoch 98/100\n",
            "453/453 [==============================] - 2s 4ms/step - loss: 0.5489 - accuracy: 0.8647 - val_loss: 0.5423 - val_accuracy: 0.8661\n",
            "Epoch 99/100\n",
            "453/453 [==============================] - 2s 4ms/step - loss: 0.5484 - accuracy: 0.8648 - val_loss: 0.5456 - val_accuracy: 0.8664\n",
            "Epoch 100/100\n",
            "453/453 [==============================] - 2s 4ms/step - loss: 0.5486 - accuracy: 0.8650 - val_loss: 0.5428 - val_accuracy: 0.8666\n"
          ],
          "name": "stdout"
        }
      ]
    },
    {
      "cell_type": "code",
      "metadata": {
        "id": "G9-U0XYJs2B9",
        "outputId": "55727ebd-e524-4dc4-a5ca-b4e1108e7c69",
        "colab": {
          "base_uri": "https://localhost:8080/",
          "height": 295
        }
      },
      "source": [
        "loss_train = history.history['loss']\n",
        "loss_val = history.history['val_loss']\n",
        "epochs = range(1,101)\n",
        "plt.plot(epochs, loss_train, 'g', label='Training loss')\n",
        "plt.plot(epochs, loss_val, 'b', label='validation loss')\n",
        "plt.title('Training and Validation loss')\n",
        "plt.xlabel('Epochs')\n",
        "plt.ylabel('Loss')\n",
        "plt.legend()\n",
        "plt.show()"
      ],
      "execution_count": 18,
      "outputs": [
        {
          "output_type": "display_data",
          "data": {
            "image/png": "[encoded data removed]",
            "text/plain": [
              "<Figure size 432x288 with 1 Axes>"
            ]
          },
          "metadata": {
            "tags": [],
            "needs_background": "light"
          }
        }
      ]
    },
    {
      "cell_type": "code",
      "metadata": {
        "id": "nnQ5ygDSs2Iw",
        "outputId": "b2d1e5c2-75bb-46da-d9a1-665493c680a1",
        "colab": {
          "base_uri": "https://localhost:8080/",
          "height": 295
        }
      },
      "source": [
        "loss_train = history.history['accuracy']\n",
        "loss_val = history.history['val_accuracy']\n",
        "epochs = range(1,101)\n",
        "plt.plot(epochs, loss_train, 'g', label='Training accuracy')\n",
        "plt.plot(epochs, loss_val, 'b', label='validation accuracy')\n",
        "plt.title('Training and Validation accuracy')\n",
        "plt.xlabel('Epochs')\n",
        "plt.ylabel('Accuracy')\n",
        "plt.legend()\n",
        "plt.show()"
      ],
      "execution_count": 19,
      "outputs": [
        {
          "output_type": "display_data",
          "data": {
            "image/png": "[encoded data removed]",
            "text/plain": [
              "<Figure size 432x288 with 1 Axes>"
            ]
          },
          "metadata": {
            "tags": [],
            "needs_background": "light"
          }
        }
      ]
    },
    {
      "cell_type": "code",
      "metadata": {
        "id": "tAns1ZUFtHVP",
        "outputId": "d033e50c-e4d9-48ee-8da4-d164236959af",
        "colab": {
          "base_uri": "https://localhost:8080/"
        }
      },
      "source": [
        "train_loss,train_accuracy = nn.evaluate(x_train,y_train)\n",
        "val_loss,val_accuracy = nn.evaluate(x_val,y_val)\n",
        "test_loss,test_accuracy = nn.evaluate(x_test,y_test)\n",
        "print('Training Accuracy : ',train_accuracy)\n",
        "print('Val Accuracy : ',val_accuracy)\n",
        "print('Test Accuracy : ',test_accuracy)"
      ],
      "execution_count": 20,
      "outputs": [
        {
          "output_type": "stream",
          "text": [
            "1810/1810 [==============================] - 4s 2ms/step - loss: 0.5474 - accuracy: 0.8651\n",
            "604/604 [==============================] - 1s 2ms/step - loss: 0.5428 - accuracy: 0.8666\n",
            "604/604 [==============================] - 1s 2ms/step - loss: 0.5293 - accuracy: 0.8699\n",
            "Training Accuracy :  0.8651075959205627\n",
            "Val Accuracy :  0.8666321039199829\n",
            "Test Accuracy :  0.8698963522911072\n"
          ],
          "name": "stdout"
        }
      ]
    }
  ]
}